{
 "cells": [
  {
   "cell_type": "markdown",
   "metadata": {},
   "source": [
    "# Lesson 04\n",
    "\n",
    "# Exploratory Data Analysis & Visualization \n",
    "\n",
    "\n",
    "![http://www.pratt.edu/tiny_mce/plugins/imagemanager/files/Light_brown_blue22.jpg](http://www.pratt.edu/tiny_mce/plugins/imagemanager/files/Light_brown_blue22.jpg)"
   ]
  },
  {
   "cell_type": "markdown",
   "metadata": {},
   "source": [
    "# Class Links\n",
    "\n",
    "* [Syllabus](https://docs.google.com/document/d/1KHxT-NkaoXXdSNkK8JlzL2FFgmNoxPQ25fwgtXPnbrY)\n",
    "\n",
    "* [Class Google Spreadsheet](https://docs.google.com/spreadsheets/d/1t481r7HjQBbjNtFOABSOlcckzQhdrh12TCzpSYKurI0/edit?usp=sharing)\n",
    "\n",
    "* [Google Meetup Video Hangout](https://meet.google.com/aym-kxae-bzr)\n",
    "\n",
    "  * For United States Dial +1 \n",
    "    * (669) 220-6376\n",
    "  * Enter this PIN when prompted: \n",
    "    * 891 126 706 #\n",
    "  \n",
    "* [GitHub Organization](https://github.com/pratt-savi-810)\n",
    "\n",
    "* [Slack Organization](https://app.slack.com/client/T01068MA75X/C010J3Q2QET)\n",
    "\n",
    "* [Resources](https://github.com/pratt-savi-810/resources)"
   ]
  },
  {
   "cell_type": "markdown",
   "metadata": {
    "toc": true
   },
   "source": [
    "<h1>Table of Contents<span class=\"tocSkip\"></span></h1>\n",
    "<div class=\"toc\"><ul class=\"toc-item\"><li><span><a href=\"#Lesson-04\" data-toc-modified-id=\"Lesson-04-1\">Lesson 04</a></span></li><li><span><a href=\"#Exploratory-Data-Analysis-&amp;-Visualization\" data-toc-modified-id=\"Exploratory-Data-Analysis-&amp;-Visualization-2\">Exploratory Data Analysis &amp; Visualization</a></span></li><li><span><a href=\"#Class-Links\" data-toc-modified-id=\"Class-Links-3\">Class Links</a></span></li><li><span><a href=\"#Learning-Objectives\" data-toc-modified-id=\"Learning-Objectives-4\">Learning Objectives</a></span><ul class=\"toc-item\"><li><ul class=\"toc-item\"><li><span><a href=\"#Fork-and-Clone-this-Lesson-Repo\" data-toc-modified-id=\"Fork-and-Clone-this-Lesson-Repo-4.0.1\">Fork and Clone this Lesson Repo</a></span></li></ul></li></ul></li><li><span><a href=\"#Install-Python-Packages\" data-toc-modified-id=\"Install-Python-Packages-5\">Install Python Packages</a></span></li><li><span><a href=\"#Import-Libraries\" data-toc-modified-id=\"Import-Libraries-6\">Import Libraries</a></span></li><li><span><a href=\"#Pandas-Groupby-Aggregation\" data-toc-modified-id=\"Pandas-Groupby-Aggregation-7\">Pandas Groupby Aggregation</a></span><ul class=\"toc-item\"><li><ul class=\"toc-item\"><li><ul class=\"toc-item\"><li><span><a href=\"#Check-out-boro_df\" data-toc-modified-id=\"Check-out-boro_df-7.0.0.1\">Check out <code>boro_df</code></a></span></li></ul></li></ul></li></ul></li><li><span><a href=\"#Groupby\" data-toc-modified-id=\"Groupby-8\">Groupby</a></span><ul class=\"toc-item\"><li><ul class=\"toc-item\"><li><ul class=\"toc-item\"><li><span><a href=\"#Let's-first-try-summing-boro_population-across-the-column-Pandas-Series\" data-toc-modified-id=\"Let's-first-try-summing-boro_population-across-the-column-Pandas-Series-8.0.0.1\">Let's first try summing <code>boro_population</code> across the column Pandas Series</a></span></li><li><span><a href=\"#Now-let's-do-a-simple-Groupby-to-Aggregate-to-each-geog_region-Groupby\" data-toc-modified-id=\"Now-let's-do-a-simple-Groupby-to-Aggregate-to-each-geog_region-Groupby-8.0.0.2\">Now let's do a simple Groupby to Aggregate to each <code>geog_region</code> Groupby</a></span></li><li><span><a href=\"#We-can-also-look-at-other-aggegation-function-types-min(),-max()\" data-toc-modified-id=\"We-can-also-look-at-other-aggegation-function-types-min(),-max()-8.0.0.3\">We can also look at other aggegation function types <code>min()</code>, <code>max()</code></a></span></li></ul></li></ul></li></ul></li><li><span><a href=\"#Pandas-Merge-to-Join-DataFrames-on-Primary-Key\" data-toc-modified-id=\"Pandas-Merge-to-Join-DataFrames-on-Primary-Key-9\">Pandas Merge to Join DataFrames on Primary Key</a></span><ul class=\"toc-item\"><li><ul class=\"toc-item\"><li><ul class=\"toc-item\"><li><span><a href=\"#We've-looked-at-our-boro_df,-let's-check-out-mhhi_df\" data-toc-modified-id=\"We've-looked-at-our-boro_df,-let's-check-out-mhhi_df-9.0.0.1\">We've looked at our <code>boro_df</code>, let's check out <code>mhhi_df</code></a></span></li><li><span><a href=\"#(THREAD)-What-column-can-I-join-on-to-combine-these-two-variables?\" data-toc-modified-id=\"(THREAD)-What-column-can-I-join-on-to-combine-these-two-variables?-9.0.0.2\">(THREAD) What column can I join on to combine these two variables?</a></span></li><li><span><a href=\"#Now-we'll-leverage-Pandas-.merge()-to-combine-these-tables-on-common-id\" data-toc-modified-id=\"Now-we'll-leverage-Pandas-.merge()-to-combine-these-tables-on-common-id-9.0.0.3\">Now we'll leverage Pandas <code>.merge()</code> to combine these tables on common id</a></span></li><li><span><a href=\"#Let's-check-out-joined_df\" data-toc-modified-id=\"Let's-check-out-joined_df-9.0.0.4\">Let's check out <code>joined_df</code></a></span></li></ul></li></ul></li></ul></li><li><span><a href=\"#Plotting\" data-toc-modified-id=\"Plotting-10\">Plotting</a></span><ul class=\"toc-item\"><li><ul class=\"toc-item\"><li><span><a href=\"#Matplotlib\" data-toc-modified-id=\"Matplotlib-10.0.1\"><a href=\"https://matplotlib.org/\" target=\"_blank\">Matplotlib</a></a></span></li></ul></li><li><span><a href=\"#New-Libraries\" data-toc-modified-id=\"New-Libraries-10.1\">New Libraries</a></span><ul class=\"toc-item\"><li><span><a href=\"#NumPy\" data-toc-modified-id=\"NumPy-10.1.1\"><a href=\"https://numpy.org/\" target=\"_blank\">NumPy</a></a></span></li><li><span><a href=\"#Missingno\" data-toc-modified-id=\"Missingno-10.1.2\"><a href=\"https://github.com/ResidentMario/missingno\" target=\"_blank\">Missingno</a></a></span></li><li><span><a href=\"#Seaborn\" data-toc-modified-id=\"Seaborn-10.1.3\"><a href=\"https://seaborn.pydata.org/\" target=\"_blank\">Seaborn</a></a></span></li></ul></li><li><span><a href=\"#Import-the-New-Libraries\" data-toc-modified-id=\"Import-the-New-Libraries-10.2\">Import the New Libraries</a></span></li></ul></li><li><span><a href=\"#Load-our-Hospitals-Data\" data-toc-modified-id=\"Load-our-Hospitals-Data-11\">Load our Hospitals Data</a></span><ul class=\"toc-item\"><li><ul class=\"toc-item\"><li><ul class=\"toc-item\"><li><span><a href=\"#Read-our-hospitals-data-as-a-DataFrame\" data-toc-modified-id=\"Read-our-hospitals-data-as-a-DataFrame-11.0.0.1\">Read our hospitals data as a DataFrame</a></span></li><li><span><a href=\"#Show-the-first-3-rows-of-the-data\" data-toc-modified-id=\"Show-the-first-3-rows-of-the-data-11.0.0.2\">Show the first 3 rows of the data</a></span></li><li><span><a href=\"#Let's-see-the-DataFrame-.columns\" data-toc-modified-id=\"Let's-see-the-DataFrame-.columns-11.0.0.3\">Let's see the DataFrame <code>.columns</code></a></span></li><li><span><a href=\"#How-many-Rows-and-Columns-does-our-DataFrame-have?\" data-toc-modified-id=\"How-many-Rows-and-Columns-does-our-DataFrame-have?-11.0.0.4\">How many Rows and Columns does our DataFrame have?</a></span></li></ul></li></ul></li></ul></li><li><span><a href=\"#Plotting-Data-in-Python\" data-toc-modified-id=\"Plotting-Data-in-Python-12\">Plotting Data in Python</a></span><ul class=\"toc-item\"><li><ul class=\"toc-item\"><li><ul class=\"toc-item\"><li><span><a href=\"#Let's-take-a-deeper-dive-and-look-at-the-BEDS-data-column\" data-toc-modified-id=\"Let's-take-a-deeper-dive-and-look-at-the-BEDS-data-column-12.0.0.1\">Let's take a deeper dive and look at the BEDS data column</a></span></li><li><span><a href=\"#Let's-start-with-a-pandas-plot\" data-toc-modified-id=\"Let's-start-with-a-pandas-plot-12.0.0.2\">Let's start with a pandas plot</a></span></li><li><span><a href=\"#We-can-also-use-the-.hist()-function\" data-toc-modified-id=\"We-can-also-use-the-.hist()-function-12.0.0.3\">We can also use the <code>.hist()</code> function</a></span></li><li><span><a href=\"#Now-let's-say-I-want-to-remove-those-gridlines-to-make-it-exactly-the-same\" data-toc-modified-id=\"Now-let's-say-I-want-to-remove-those-gridlines-to-make-it-exactly-the-same-12.0.0.4\">Now let's say I want to remove those gridlines to make it exactly the same</a></span></li><li><span><a href=\"#I-can-hit-SHIFT-+-TAB-to-see-the-arguments-for-the-.hist(-)-function\" data-toc-modified-id=\"I-can-hit-SHIFT-+-TAB-to-see-the-arguments-for-the-.hist(-)-function-12.0.0.5\">I can hit SHIFT + TAB to see the arguments for the <code>.hist( )</code> function</a></span></li><li><span><a href=\"#Now-let's-try-to-change-the-color.\" data-toc-modified-id=\"Now-let's-try-to-change-the-color.-12.0.0.6\">Now let's try to change the color.</a></span></li></ul></li></ul></li></ul></li><li><span><a href=\"#Matplotlib-Colors\" data-toc-modified-id=\"Matplotlib-Colors-13\">Matplotlib Colors</a></span><ul class=\"toc-item\"><li><ul class=\"toc-item\"><li><ul class=\"toc-item\"><li><span><a href=\"#Try-with-a-different-color\" data-toc-modified-id=\"Try-with-a-different-color-13.0.0.1\">Try with a different color</a></span></li><li><span><a href=\"#We-can-also-set-the-column-after-rather-than-inferring-it-from-DataFrame-Series\" data-toc-modified-id=\"We-can-also-set-the-column-after-rather-than-inferring-it-from-DataFrame-Series-13.0.0.2\">We can also set the column after rather than inferring it from DataFrame Series</a></span></li><li><span><a href=\"#We-can-also-plot-two-Histograms-using-BEDS-and-LATITUDE-columns\" data-toc-modified-id=\"We-can-also-plot-two-Histograms-using-BEDS-and-LATITUDE-columns-13.0.0.3\">We can also plot two Histograms using <code>BEDS</code> and <code>LATITUDE</code> columns</a></span></li><li><span><a href=\"#And-increase-the-Figure-Size\" data-toc-modified-id=\"And-increase-the-Figure-Size-13.0.0.4\">And increase the Figure Size</a></span></li><li><span><a href=\"#We-can-plot-as-a-Scatterplot\" data-toc-modified-id=\"We-can-plot-as-a-Scatterplot-13.0.0.5\">We can plot as a Scatterplot</a></span></li><li><span><a href=\"#We-can-plot-a-Box-plot\" data-toc-modified-id=\"We-can-plot-a-Box-plot-13.0.0.6\">We can plot a Box plot</a></span></li><li><span><a href=\"#Let's-look-at-our-BEDS-column-again-as-.plot.box()\" data-toc-modified-id=\"Let's-look-at-our-BEDS-column-again-as-.plot.box()-13.0.0.7\">Let's look at our BEDS column again as <code>.plot.box()</code></a></span></li><li><span><a href=\"#The--999-values-should-be-re-classified-as-missing-or-null\" data-toc-modified-id=\"The--999-values-should-be-re-classified-as-missing-or-null-13.0.0.8\">The -999 values should be re-classified as missing or null</a></span></li><li><span><a href=\"#Creating-new-Columns-in-Pandas-DataFrame\" data-toc-modified-id=\"Creating-new-Columns-in-Pandas-DataFrame-13.0.0.9\">Creating new Columns in Pandas DataFrame</a></span></li><li><span><a href=\"#Set-everyone's-eye-color-to-Brown\" data-toc-modified-id=\"Set-everyone's-eye-color-to-Brown-13.0.0.10\">Set everyone's eye color to Brown</a></span></li><li><span><a href=\"#Set-Tom's-Eye-Color-to-Green\" data-toc-modified-id=\"Set-Tom's-Eye-Color-to-Green-13.0.0.11\">Set Tom's Eye Color to Green</a></span></li><li><span><a href=\"#Set-Nick's-Eye-Color-to-Blue\" data-toc-modified-id=\"Set-Nick's-Eye-Color-to-Blue-13.0.0.12\">Set Nick's Eye Color to Blue</a></span></li><li><span><a href=\"#We-can-access-our-items-perhaps-a-little-easier-if-we-set.index()-for-our-DataFrame\" data-toc-modified-id=\"We-can-access-our-items-perhaps-a-little-easier-if-we-set.index()-for-our-DataFrame-13.0.0.13\">We can access our items perhaps a little easier if we <code>set.index()</code> for our DataFrame</a></span></li><li><span><a href=\"#Now-let's-set-Tom's-Eye-Color-to-Hazel\" data-toc-modified-id=\"Now-let's-set-Tom's-Eye-Color-to-Hazel-13.0.0.14\">Now let's set Tom's Eye Color to Hazel</a></span></li><li><span><a href=\"#Now-Back-to-our-Hospitals-DataFrame\" data-toc-modified-id=\"Now-Back-to-our-Hospitals-DataFrame-13.0.0.15\">Now Back to our Hospitals DataFrame</a></span></li><li><span><a href=\"#Let's-see-for-which-rows-BEDS-are--999\" data-toc-modified-id=\"Let's-see-for-which-rows-BEDS-are--999-13.0.0.16\">Let's see for which rows BEDS are -999</a></span></li><li><span><a href=\"#We-can-now-see-the-rows-where-BEDS-==--999\" data-toc-modified-id=\"We-can-now-see-the-rows-where-BEDS-==--999-13.0.0.17\">We can now see the rows where BEDS == -999</a></span></li><li><span><a href=\"#Okay-now-let's-use-that-to-write-a-numpy.where()-conditional-Statement\" data-toc-modified-id=\"Okay-now-let's-use-that-to-write-a-numpy.where()-conditional-Statement-13.0.0.18\">Okay now let's use that to write a <code>numpy.where()</code> conditional Statement</a></span></li><li><span><a href=\"#We'll-replace--999-with-the-np.nan-missing-data-type.\" data-toc-modified-id=\"We'll-replace--999-with-the-np.nan-missing-data-type.-13.0.0.19\">We'll replace -999 with the <code>np.nan</code> missing data type.</a></span></li><li><span><a href=\"#Check-out-BEDS_newcol\" data-toc-modified-id=\"Check-out-BEDS_newcol-13.0.0.20\">Check out <code>BEDS_newcol</code></a></span></li><li><span><a href=\"#Now-let's-look-at-a-.hist()-(histogram)-of-our-BEDS_newcol\" data-toc-modified-id=\"Now-let's-look-at-a-.hist()-(histogram)-of-our-BEDS_newcol-13.0.0.21\">Now let's look at a <code>.hist()</code> (histogram) of our BEDS_newcol</a></span></li><li><span><a href=\"#We-can-see-which-columns-isnull()\" data-toc-modified-id=\"We-can-see-which-columns-isnull()-13.0.0.22\">We can see which columns <code>isnull()</code></a></span></li><li><span><a href=\"#And-we-can-sum-to-see-how-many-are-null.\" data-toc-modified-id=\"And-we-can-sum-to-see-how-many-are-null.-13.0.0.23\">And we can sum to see how many are null.</a></span></li></ul></li></ul></li></ul></li><li><span><a href=\"#Seaborn-PairPlot\" data-toc-modified-id=\"Seaborn-PairPlot-14\">Seaborn PairPlot</a></span><ul class=\"toc-item\"><li><ul class=\"toc-item\"><li><ul class=\"toc-item\"><li><span><a href=\"#First-we'll-load-in-a-new-dataset-from-Seabron-called-&quot;iris&quot;\" data-toc-modified-id=\"First-we'll-load-in-a-new-dataset-from-Seabron-called-&quot;iris&quot;-14.0.0.1\">First we'll load in a new dataset from Seabron called <code>\"iris\"</code></a></span></li><li><span><a href=\"#Check-out-the-iris-DataFrame\" data-toc-modified-id=\"Check-out-the-iris-DataFrame-14.0.0.2\">Check out the <code>iris</code> DataFrame</a></span></li><li><span><a href=\"#Now-let's-use-the-.pairplot()-to-show-Distributions-along-with-Scatterplots\" data-toc-modified-id=\"Now-let's-use-the-.pairplot()-to-show-Distributions-along-with-Scatterplots-14.0.0.3\">Now let's use the <code>.pairplot()</code> to show Distributions along with Scatterplots</a></span></li><li><span><a href=\"#Now-let's-set-a-Column-as-a-Seperate-Class\" data-toc-modified-id=\"Now-let's-set-a-Column-as-a-Seperate-Class-14.0.0.4\">Now let's set a Column as a Seperate Class</a></span></li><li><span><a href=\"#Seaborn-.scatterplot()\" data-toc-modified-id=\"Seaborn-.scatterplot()-14.0.0.5\">Seaborn <code>.scatterplot()</code></a></span></li></ul></li></ul></li></ul></li><li><span><a href=\"#Missing-Values-(Nulls)-with-Missingno\" data-toc-modified-id=\"Missing-Values-(Nulls)-with-Missingno-15\">Missing Values (Nulls) with Missingno</a></span><ul class=\"toc-item\"><li><ul class=\"toc-item\"><li><ul class=\"toc-item\"><li><span><a href=\"#Read-in-the-.csv-as-missing_df.\" data-toc-modified-id=\"Read-in-the-.csv-as-missing_df.-15.0.0.1\">Read in the <code>.csv</code> as <code>missing_df</code>.</a></span></li><li><span><a href=\"#Use-msno.matrix()-to-visualize-our-Missing-Data\" data-toc-modified-id=\"Use-msno.matrix()-to-visualize-our-Missing-Data-15.0.0.2\">Use <code>msno.matrix()</code> to visualize our Missing Data</a></span></li></ul></li></ul></li></ul></li><li><span><a href=\"#End-Lesson-04\" data-toc-modified-id=\"End-Lesson-04-16\">End Lesson 04</a></span></li></ul></div>"
   ]
  },
  {
   "cell_type": "markdown",
   "metadata": {},
   "source": [
    "# Learning Objectives\n",
    "\n",
    "* Pandas Groupby Aggregation\n",
    "* Pandas Merge / Join Tables\n",
    "* Learn to plot data with the Pandas Plotting Methods\n",
    "* Plot data using Seaborn\n",
    "* Explore missing data with MissingNo\n",
    "* Learn a bunch of Pandas features along the way. \n",
    "\n",
    "\n",
    "### Fork and Clone this Lesson Repo\n",
    "\n",
    "https://github.com/pratt-savi-810/pratt-savi-810-2020-03-lesson_04\n"
   ]
  },
  {
   "cell_type": "markdown",
   "metadata": {},
   "source": [
    "# Install Python Packages\n",
    "\n",
    "```\n",
    "(geospatial) $ pip install seaborn\n",
    "\n",
    "(geospatial) $ pip install missingno\n",
    "\n",
    "```"
   ]
  },
  {
   "cell_type": "markdown",
   "metadata": {},
   "source": [
    "# Import Libraries\n",
    "\n",
    "Let's `import` some of the libraries we've already used. "
   ]
  },
  {
   "cell_type": "code",
   "execution_count": 2,
   "metadata": {},
   "outputs": [],
   "source": [
    "from IPython.display import IFrame\n",
    "import pandas as pd\n",
    "import matplotlib.pyplot as plt"
   ]
  },
  {
   "cell_type": "markdown",
   "metadata": {},
   "source": [
    "# Pandas Groupby Aggregation"
   ]
  },
  {
   "cell_type": "code",
   "execution_count": 3,
   "metadata": {},
   "outputs": [],
   "source": [
    "boro_data = {\n",
    "    \"Manhattan\": {\n",
    "        \"COUNTYFIPS\": '36061',\n",
    "        \"boro_code\": '1',\n",
    "        \"boro_population\": 1_628_701,\n",
    "        \"boro_name\": \"Manhattan\",\n",
    "        \"geog_region\": 'ny harbor',\n",
    "    },\n",
    "    \"Bronx\": {\n",
    "        \"COUNTYFIPS\": '36005',\n",
    "        \"boro_code\": '2',\n",
    "        \"boro_population\": 1_432_132,\n",
    "        \"boro_name\": \"Bronx\",\n",
    "        \"geog_region\": 'upstate'\n",
    "    },\n",
    "    \"Brooklyn\": {\n",
    "        \"COUNTYFIPS\": '36047',\n",
    "        \"boro_code\": '3',\n",
    "        \"boro_population\": 2_582_830,\n",
    "        \"boro_name\": \"Brooklyn\",\n",
    "        \"geog_region\": 'long island'\n",
    "    },\n",
    "    \"Queens\": {\n",
    "        \"COUNTYFIPS\": '36081',\n",
    "        \"boro_code\": '4',\n",
    "        \"boro_population\": 2_278_906,\n",
    "        \"boro_name\": \"Queens\",\n",
    "        \"geog_region\": 'long island'\n",
    "    },\n",
    "    \"Staten Island\": {\n",
    "        \"COUNTYFIPS\": '36085',\n",
    "        \"boro_code\": '5',\n",
    "        \"boro_population\": 476_179,\n",
    "        \"boro_name\": \"Staten Island\",\n",
    "        \"geog_region\": 'ny harbor'\n",
    "    },\n",
    "}\n",
    "\n",
    "mhhi = {\n",
    "    \"Manhattan\": {\n",
    "        \"boro_code\": '1',\n",
    "        \"mhhi\": 79_781,\n",
    "    },\n",
    "    \"Bronx\": {\n",
    "        \"boro_code\": '2',\n",
    "        \"mhhi\": 36_593,\n",
    "    },\n",
    "    \"Brooklyn\": {\n",
    "        \"boro_code\": '3',\n",
    "        \"mhhi\": 52_782,\n",
    "    },\n",
    "    \"Queens\": {\n",
    "        \"boro_code\": '4',\n",
    "        \"mhhi\": 62_008,\n",
    "    },\n",
    "    \"Staten Island\": { \n",
    "        \"boro_code\": '5',\n",
    "        \"mhhi\": 76_244,\n",
    "    },\n",
    "}  # 2013-2017 acs\n",
    "\n",
    "boro_df = pd.DataFrame(boro_data).T\n",
    "boro_df.reset_index(inplace=True)\n",
    "boro_df.drop(columns=['index'], inplace=True)\n",
    "\n",
    "mhhi_df = pd.DataFrame(mhhi).T\n",
    "\n",
    "mhhi_df.reset_index(inplace=True)\n",
    "mhhi_df['median_household_income'] = mhhi_df['mhhi']\n",
    "mhhi_df.drop(columns=['index', 'mhhi'], inplace=True)\n"
   ]
  },
  {
   "cell_type": "markdown",
   "metadata": {},
   "source": [
    "#### Check out `boro_df`"
   ]
  },
  {
   "cell_type": "code",
   "execution_count": null,
   "metadata": {},
   "outputs": [],
   "source": []
  },
  {
   "cell_type": "markdown",
   "metadata": {},
   "source": [
    "# Groupby\n",
    "\n",
    "> A groupby operation involves some combination of splitting the object, applying a function, and combining the results. This can be used to group large amounts of data and compute operations on these groups. Source: https://pandas.pydata.org/pandas-docs/stable/reference/api/pandas.DataFrame.groupby.html\n",
    "\n",
    "![groupby](https://i.stack.imgur.com/sgCn1.jpg)\n",
    "_Source: [https://stackoverflow.com/questions/35500425/using-pandas-groupby-just-to-drop-repeated-items](https://stackoverflow.com/questions/35500425/using-pandas-groupby-just-to-drop-repeated-items)_\n",
    "\n",
    "\n",
    "#### Let's first try summing `boro_population` across the column Pandas Series"
   ]
  },
  {
   "cell_type": "code",
   "execution_count": null,
   "metadata": {},
   "outputs": [],
   "source": []
  },
  {
   "cell_type": "markdown",
   "metadata": {},
   "source": [
    "#### Now let's do a simple Groupby to Aggregate to each `geog_region` Groupby"
   ]
  },
  {
   "cell_type": "code",
   "execution_count": null,
   "metadata": {},
   "outputs": [],
   "source": []
  },
  {
   "cell_type": "markdown",
   "metadata": {},
   "source": [
    "#### We can also look at other aggegation function types `min()`, `max()`"
   ]
  },
  {
   "cell_type": "code",
   "execution_count": null,
   "metadata": {},
   "outputs": [],
   "source": []
  },
  {
   "cell_type": "code",
   "execution_count": null,
   "metadata": {},
   "outputs": [],
   "source": []
  },
  {
   "cell_type": "markdown",
   "metadata": {},
   "source": [
    "# Pandas Merge to Join DataFrames on Primary Key\n",
    "\n",
    "![merge](https://miro.medium.com/max/7360/1*-I_1qa5TIiB5eNYxnodfAA.png)\n",
    "_Source: [https://towardsdatascience.com/python-pandas-dataframe-join-merge-and-concatenate-84985c29ef78](https://towardsdatascience.com/python-pandas-dataframe-join-merge-and-concatenate-84985c29ef78)_\n",
    "\n",
    "#### We've looked at our `boro_df`, let's check out `mhhi_df`"
   ]
  },
  {
   "cell_type": "code",
   "execution_count": null,
   "metadata": {},
   "outputs": [],
   "source": []
  },
  {
   "cell_type": "markdown",
   "metadata": {},
   "source": [
    "#### (THREAD) What column can I join on to combine these two variables?\n",
    "\n",
    "\n",
    "<details>\n",
    "<summary>Answer:</summary>\n",
    "    <code>boro_code</code>\n",
    "</details>"
   ]
  },
  {
   "cell_type": "markdown",
   "metadata": {},
   "source": [
    "#### Now we'll leverage Pandas `.merge()` to combine these tables on common id"
   ]
  },
  {
   "cell_type": "code",
   "execution_count": null,
   "metadata": {},
   "outputs": [],
   "source": [
    "joined_df = # code"
   ]
  },
  {
   "cell_type": "markdown",
   "metadata": {},
   "source": [
    "#### Let's check out `joined_df`"
   ]
  },
  {
   "cell_type": "code",
   "execution_count": null,
   "metadata": {},
   "outputs": [],
   "source": []
  },
  {
   "cell_type": "markdown",
   "metadata": {},
   "source": [
    "# Plotting\n",
    "\n",
    "### [Matplotlib](https://matplotlib.org/)\n",
    "\n",
    "> Matplotlib is a comprehensive library for creating static, animated, and interactive visualizations in Python. Source: https://matplotlib.org/\n",
    "\n",
    "![matplotlib](https://matplotlib.org/_images/sphx_glr_subplot_001.png)\n",
    "\n",
    "\n",
    "## New Libraries\n",
    "\n",
    "### [NumPy](https://numpy.org/)\n",
    "\n",
    "> NumPy is the fundamental package for scientific computing with Python. It contains among other things:\n",
    "* a powerful N-dimensional array object\n",
    "* sophisticated (broadcasting) functions\n",
    "* tools for integrating C/C++ and Fortran code\n",
    "* useful linear algebra, Fourier transform, and random number capabilities\n",
    "\n",
    "> Besides its obvious scientific uses, NumPy can also be used as an efficient multi-dimensional container of generic data. Arbitrary data-types can be defined. This allows NumPy to seamlessly and speedily integrate with a wide variety of databases. Source: https://numpy.org/\n",
    "\n",
    "### [Missingno](https://github.com/ResidentMario/missingno)\n",
    "\n",
    "> Messy datasets? Missing values? missingno provides a small toolset of flexible and easy-to-use missing data visualizations and utilities that allows you to get a quick visual summary of the completeness (or lack thereof) of your dataset. Just pip install missingno to get started. Source: https://github.com/ResidentMario/missingno\n",
    "\n",
    "![missingo](https://camo.githubusercontent.com/d59ba9e511fd42dd078b8c8829d3de3f6a7e1585/68747470733a2f2f692e696d6775722e636f6d2f675775584b45722e706e67)\n",
    "\n",
    "### [Seaborn](https://seaborn.pydata.org/)\n",
    "\n",
    "> Seaborn is a Python data visualization library based on matplotlib. It provides a high-level interface for drawing attractive and informative statistical graphics. Source: https://seaborn.pydata.org/\n",
    "\n",
    "![seaborn](https://seaborn.pydata.org/_static/errorband_lineplots_thumb.png)"
   ]
  },
  {
   "cell_type": "code",
   "execution_count": 5,
   "metadata": {},
   "outputs": [
    {
     "data": {
      "text/html": [
       "\n",
       "        <iframe\n",
       "            width=\"700\"\n",
       "            height=\"400\"\n",
       "            src=\"https://seaborn.pydata.org/examples/index.html\"\n",
       "            frameborder=\"0\"\n",
       "            allowfullscreen\n",
       "        ></iframe>\n",
       "        "
      ],
      "text/plain": [
       "<IPython.lib.display.IFrame at 0x7fd8115f0910>"
      ]
     },
     "execution_count": 5,
     "metadata": {},
     "output_type": "execute_result"
    }
   ],
   "source": [
    "IFrame(src='https://seaborn.pydata.org/examples/index.html', width=700, height=400)"
   ]
  },
  {
   "cell_type": "markdown",
   "metadata": {},
   "source": [
    "## Import the New Libraries"
   ]
  },
  {
   "cell_type": "code",
   "execution_count": null,
   "metadata": {},
   "outputs": [],
   "source": []
  },
  {
   "cell_type": "markdown",
   "metadata": {},
   "source": [
    "# Load our Hospitals Data"
   ]
  },
  {
   "cell_type": "code",
   "execution_count": 207,
   "metadata": {},
   "outputs": [],
   "source": [
    "csv_url = 'https://opendata.arcgis.com/datasets/6ac5e325468c4cb9b905f1728d6fbf0f_0.csv?outSR=%7B%22latestWkid%22%3A3857%2C%22wkid%22%3A102100%7D'"
   ]
  },
  {
   "cell_type": "markdown",
   "metadata": {},
   "source": [
    "#### Read our hospitals data as a DataFrame\n",
    "Read our hospitals data as a DataFrame using Pandas (imported as `pd`)\n"
   ]
  },
  {
   "cell_type": "code",
   "execution_count": null,
   "metadata": {},
   "outputs": [],
   "source": []
  },
  {
   "cell_type": "markdown",
   "metadata": {},
   "source": [
    "#### Show the first 3 rows of the data\n",
    "Show the first 3 rows of the data using `.head()`"
   ]
  },
  {
   "cell_type": "code",
   "execution_count": null,
   "metadata": {},
   "outputs": [],
   "source": []
  },
  {
   "cell_type": "markdown",
   "metadata": {},
   "source": [
    "#### Let's see the DataFrame `.columns`"
   ]
  },
  {
   "cell_type": "code",
   "execution_count": null,
   "metadata": {},
   "outputs": [],
   "source": []
  },
  {
   "cell_type": "markdown",
   "metadata": {},
   "source": [
    "#### How many Rows and Columns does our DataFrame have? \n",
    "What is the shape of the data (rows and colums)?\n",
    "\n",
    "Use `.shape`\n"
   ]
  },
  {
   "cell_type": "code",
   "execution_count": null,
   "metadata": {},
   "outputs": [],
   "source": []
  },
  {
   "cell_type": "markdown",
   "metadata": {},
   "source": [
    "\n",
    "\n",
    "# Plotting Data in Python\n",
    "\n",
    "* [**Matplotlib**](https://matplotlib.org/) is our Python plotting workhorse. Many of the other plotting libraries are built around or extended versions of Matplotlib. \n",
    "\n",
    "* [**Pandas**](https://pandas.pydata.org/pandas-docs/stable/user_guide/visualization.html) has it's own [plotting methods](https://pandas.pydata.org/pandas-docs/stable/user_guide/visualization.html) that are quick and easy implementations of `matplotlib`-like functions. \n",
    "\n",
    "* [**Seaborn**](https://seaborn.pydata.org/index.html) is based on Matplotlib and makes it easier to generate more detailed and involved plots that may have nicer styling than Matplotlib out-of-the-box. Sometimes its more complex to change and update the details of these plotting functions however. \n",
    "\n",
    "#### Let's take a deeper dive and look at the BEDS data column\n",
    "\n",
    "First, let's generate a [Histogram](https://en.wikipedia.org/wiki/Histogram) to see the distribution of our Beds data. \n",
    "\n",
    "#### Let's start with a pandas plot"
   ]
  },
  {
   "cell_type": "code",
   "execution_count": 6,
   "metadata": {},
   "outputs": [],
   "source": [
    "\n",
    "# the semicolon (;) removes the printout to the cell of the in-memory python object"
   ]
  },
  {
   "cell_type": "markdown",
   "metadata": {},
   "source": [
    "#### We can also use the `.hist()` function\n",
    "\n",
    "Which is basically the same as the `.plot(kind='hist)"
   ]
  },
  {
   "cell_type": "code",
   "execution_count": null,
   "metadata": {},
   "outputs": [],
   "source": []
  },
  {
   "cell_type": "markdown",
   "metadata": {},
   "source": [
    "#### Now let's say I want to remove those gridlines to make it exactly the same"
   ]
  },
  {
   "cell_type": "markdown",
   "metadata": {},
   "source": [
    "#### I can hit SHIFT + TAB to see the arguments for the `.hist( )` function\n",
    "\n",
    "![pandas hist plot](https://raw.githubusercontent.com/pratt-savi-810/images/master/pandas_plot_hist_parameters.png)"
   ]
  },
  {
   "cell_type": "code",
   "execution_count": null,
   "metadata": {},
   "outputs": [],
   "source": []
  },
  {
   "cell_type": "markdown",
   "metadata": {},
   "source": [
    "#### Now let's try to change the color. "
   ]
  },
  {
   "cell_type": "code",
   "execution_count": null,
   "metadata": {},
   "outputs": [],
   "source": []
  },
  {
   "cell_type": "markdown",
   "metadata": {},
   "source": [
    "# Matplotlib Colors \n",
    "\n",
    "![base colors](https://matplotlib.org/3.1.0/_images/sphx_glr_named_colors_001.png)\n",
    "\n",
    "![tableau palette](https://matplotlib.org/3.1.0/_images/sphx_glr_named_colors_002.png)\n",
    "\n",
    "![css colors](https://matplotlib.org/3.1.0/_images/sphx_glr_named_colors_003.png)\n",
    "\n",
    "\n",
    "#### Try with a different color "
   ]
  },
  {
   "cell_type": "code",
   "execution_count": null,
   "metadata": {},
   "outputs": [],
   "source": []
  },
  {
   "cell_type": "markdown",
   "metadata": {},
   "source": [
    "#### We can also set the column after rather than inferring it from DataFrame Series"
   ]
  },
  {
   "cell_type": "code",
   "execution_count": null,
   "metadata": {},
   "outputs": [],
   "source": []
  },
  {
   "cell_type": "markdown",
   "metadata": {},
   "source": [
    "#### We can also plot two Histograms using `BEDS` and `LATITUDE` columns"
   ]
  },
  {
   "cell_type": "code",
   "execution_count": null,
   "metadata": {},
   "outputs": [],
   "source": []
  },
  {
   "cell_type": "markdown",
   "metadata": {},
   "source": [
    "#### And increase the Figure Size\n"
   ]
  },
  {
   "cell_type": "code",
   "execution_count": 7,
   "metadata": {},
   "outputs": [],
   "source": [
    "# Figure size (width, height)\n",
    "\n"
   ]
  },
  {
   "cell_type": "markdown",
   "metadata": {},
   "source": [
    "#### We can plot as a Scatterplot"
   ]
  },
  {
   "cell_type": "code",
   "execution_count": null,
   "metadata": {},
   "outputs": [],
   "source": []
  },
  {
   "cell_type": "markdown",
   "metadata": {},
   "source": [
    "#### We can plot a Box plot \n",
    "\n",
    "> Visualize the distribution of values within each column. Source: https://pandas.pydata.org/pandas-docs/stable/user_guide/visualization.html#box-plots\n",
    "\n",
    "![boxplot example](https://pandas.pydata.org/pandas-docs/stable/_images/box_plot_new.png)"
   ]
  },
  {
   "cell_type": "code",
   "execution_count": null,
   "metadata": {},
   "outputs": [],
   "source": []
  },
  {
   "cell_type": "markdown",
   "metadata": {},
   "source": [
    "#### Let's look at our BEDS column again as `.plot.box()`"
   ]
  },
  {
   "cell_type": "code",
   "execution_count": null,
   "metadata": {},
   "outputs": [],
   "source": []
  },
  {
   "cell_type": "markdown",
   "metadata": {},
   "source": [
    "#### The -999 values should be re-classified as missing or null\n",
    "\n",
    "But first let's look at **creating new columns** in a Pandas DataFrame\n",
    "\n",
    "#### Creating new Columns in Pandas DataFrame"
   ]
  },
  {
   "cell_type": "code",
   "execution_count": 223,
   "metadata": {},
   "outputs": [
    {
     "data": {
      "text/html": [
       "<div>\n",
       "<style scoped>\n",
       "    .dataframe tbody tr th:only-of-type {\n",
       "        vertical-align: middle;\n",
       "    }\n",
       "\n",
       "    .dataframe tbody tr th {\n",
       "        vertical-align: top;\n",
       "    }\n",
       "\n",
       "    .dataframe thead th {\n",
       "        text-align: right;\n",
       "    }\n",
       "</style>\n",
       "<table border=\"1\" class=\"dataframe\">\n",
       "  <thead>\n",
       "    <tr style=\"text-align: right;\">\n",
       "      <th></th>\n",
       "      <th>Name</th>\n",
       "      <th>Age</th>\n",
       "    </tr>\n",
       "  </thead>\n",
       "  <tbody>\n",
       "    <tr>\n",
       "      <td>0</td>\n",
       "      <td>Tom</td>\n",
       "      <td>20</td>\n",
       "    </tr>\n",
       "    <tr>\n",
       "      <td>1</td>\n",
       "      <td>nick</td>\n",
       "      <td>21</td>\n",
       "    </tr>\n",
       "    <tr>\n",
       "      <td>2</td>\n",
       "      <td>krish</td>\n",
       "      <td>19</td>\n",
       "    </tr>\n",
       "    <tr>\n",
       "      <td>3</td>\n",
       "      <td>jack</td>\n",
       "      <td>18</td>\n",
       "    </tr>\n",
       "  </tbody>\n",
       "</table>\n",
       "</div>"
      ],
      "text/plain": [
       "    Name  Age\n",
       "0    Tom   20\n",
       "1   nick   21\n",
       "2  krish   19\n",
       "3   jack   18"
      ]
     },
     "execution_count": 223,
     "metadata": {},
     "output_type": "execute_result"
    }
   ],
   "source": [
    "# Source: https://www.geeksforgeeks.org/different-ways-to-create-pandas-dataframe/\n",
    "data = {'Name':['Tom', 'nick', 'krish', 'jack'], 'Age':[20, 21, 19, 18]} \n",
    "  \n",
    "s = pd.DataFrame(data) \n",
    "  \n",
    "s"
   ]
  },
  {
   "cell_type": "markdown",
   "metadata": {},
   "source": [
    "#### Set everyone's eye color to Brown"
   ]
  },
  {
   "cell_type": "code",
   "execution_count": null,
   "metadata": {},
   "outputs": [],
   "source": []
  },
  {
   "cell_type": "code",
   "execution_count": null,
   "metadata": {},
   "outputs": [],
   "source": []
  },
  {
   "cell_type": "markdown",
   "metadata": {},
   "source": [
    "#### Set Tom's Eye Color to Green"
   ]
  },
  {
   "cell_type": "code",
   "execution_count": null,
   "metadata": {},
   "outputs": [],
   "source": []
  },
  {
   "cell_type": "code",
   "execution_count": null,
   "metadata": {},
   "outputs": [],
   "source": []
  },
  {
   "cell_type": "markdown",
   "metadata": {},
   "source": [
    "#### Set Nick's Eye Color to Blue"
   ]
  },
  {
   "cell_type": "code",
   "execution_count": null,
   "metadata": {},
   "outputs": [],
   "source": []
  },
  {
   "cell_type": "code",
   "execution_count": null,
   "metadata": {},
   "outputs": [],
   "source": []
  },
  {
   "cell_type": "markdown",
   "metadata": {},
   "source": [
    "#### We can access our items perhaps a little easier if we `set.index()` for our DataFrame"
   ]
  },
  {
   "cell_type": "code",
   "execution_count": null,
   "metadata": {},
   "outputs": [],
   "source": []
  },
  {
   "cell_type": "markdown",
   "metadata": {},
   "source": [
    "#### Now let's set Tom's Eye Color to Hazel"
   ]
  },
  {
   "cell_type": "code",
   "execution_count": null,
   "metadata": {},
   "outputs": [],
   "source": []
  },
  {
   "cell_type": "code",
   "execution_count": null,
   "metadata": {},
   "outputs": [],
   "source": []
  },
  {
   "cell_type": "markdown",
   "metadata": {},
   "source": [
    "#### Now Back to our Hospitals DataFrame\n",
    "\n",
    "We need to setup a condition where we want to reclassify the -999 values in BEDS column to missing so we can more accurately plot the data. \n",
    "\n",
    "#### Let's see for which rows BEDS are -999"
   ]
  },
  {
   "cell_type": "code",
   "execution_count": null,
   "metadata": {},
   "outputs": [],
   "source": []
  },
  {
   "cell_type": "markdown",
   "metadata": {},
   "source": [
    "#### We can now see the rows where BEDS == -999"
   ]
  },
  {
   "cell_type": "code",
   "execution_count": null,
   "metadata": {},
   "outputs": [],
   "source": []
  },
  {
   "cell_type": "markdown",
   "metadata": {},
   "source": [
    "#### Okay now let's use that to write a `numpy.where()` conditional Statement\n",
    "\n",
    "`numpy.where(condition[, x, y])`\n",
    "\n",
    ">  `Where True, yield x, otherwise yield y.` Source: https://docs.scipy.org/doc/numpy/reference/generated/numpy.where.html\n",
    "\n",
    "#### We'll replace -999 with the `np.nan` missing data type. "
   ]
  },
  {
   "cell_type": "code",
   "execution_count": 9,
   "metadata": {},
   "outputs": [],
   "source": [
    "df['BEDS_newcol'] = np.where(\n",
    "    df['BEDS'] == -999,\n",
    "    np.nan,  \n",
    "    df['BEDS']\n",
    ")"
   ]
  },
  {
   "cell_type": "markdown",
   "metadata": {},
   "source": [
    "#### Check out `BEDS_newcol`"
   ]
  },
  {
   "cell_type": "code",
   "execution_count": null,
   "metadata": {},
   "outputs": [],
   "source": []
  },
  {
   "cell_type": "markdown",
   "metadata": {},
   "source": [
    "#### Now let's look at a `.hist()` (histogram) of our BEDS_newcol\n"
   ]
  },
  {
   "cell_type": "code",
   "execution_count": null,
   "metadata": {},
   "outputs": [],
   "source": []
  },
  {
   "cell_type": "markdown",
   "metadata": {},
   "source": [
    "#### We can see which columns `isnull()`"
   ]
  },
  {
   "cell_type": "code",
   "execution_count": null,
   "metadata": {},
   "outputs": [],
   "source": []
  },
  {
   "cell_type": "markdown",
   "metadata": {},
   "source": [
    "#### And we can sum to see how many are null. "
   ]
  },
  {
   "cell_type": "code",
   "execution_count": null,
   "metadata": {},
   "outputs": [],
   "source": []
  },
  {
   "cell_type": "markdown",
   "metadata": {},
   "source": [
    "# Seaborn PairPlot\n",
    "\n",
    "#### First we'll load in a new dataset from Seabron called `\"iris\"`"
   ]
  },
  {
   "cell_type": "code",
   "execution_count": 240,
   "metadata": {},
   "outputs": [],
   "source": [
    "iris = sns.load_dataset(\"iris\")"
   ]
  },
  {
   "cell_type": "markdown",
   "metadata": {},
   "source": [
    "#### Check out the `iris` DataFrame"
   ]
  },
  {
   "cell_type": "code",
   "execution_count": null,
   "metadata": {},
   "outputs": [],
   "source": []
  },
  {
   "cell_type": "markdown",
   "metadata": {},
   "source": [
    "#### Now let's use the `.pairplot()` to show Distributions along with Scatterplots\n",
    "\n"
   ]
  },
  {
   "cell_type": "code",
   "execution_count": null,
   "metadata": {},
   "outputs": [],
   "source": []
  },
  {
   "cell_type": "markdown",
   "metadata": {},
   "source": [
    "#### Now let's set a Column as a Seperate Class"
   ]
  },
  {
   "cell_type": "code",
   "execution_count": null,
   "metadata": {},
   "outputs": [],
   "source": []
  },
  {
   "cell_type": "markdown",
   "metadata": {},
   "source": [
    "#### Seaborn `.scatterplot()`"
   ]
  },
  {
   "cell_type": "code",
   "execution_count": 10,
   "metadata": {},
   "outputs": [],
   "source": [
    "plt.figure(figsize=(13, 7))\n",
    "\n",
    "sns.scatterplot(\n",
    "    data=df[\n",
    "        (df['STATE'] != 'PW') & (df['STATE'] != 'GU') & (df['STATE'] != 'MP') & (df['STATE'] != 'AK') & (df['STATE'] != 'HI') & (df['STATE'] != 'PR') & (df['STATE'] != 'VI')\n",
    "    ],\n",
    "    x=\"LONGITUDE\", \n",
    "    y=\"LATITUDE\", \n",
    "    size=\"BEDS_newcol\",\n",
    "    sizes=(5, 500),\n",
    "    alpha=0.7,\n",
    ");  # note this isn't a true python mapping library, just scatter plot"
   ]
  },
  {
   "cell_type": "markdown",
   "metadata": {},
   "source": [
    "# Missing Values (Nulls) with Missingno\n",
    "\n",
    "#### Read in the `.csv` as `missing_df`. "
   ]
  },
  {
   "cell_type": "code",
   "execution_count": 245,
   "metadata": {},
   "outputs": [],
   "source": [
    "missing_df = pd.read_csv('data/missing_values_example.csv')"
   ]
  },
  {
   "cell_type": "markdown",
   "metadata": {},
   "source": [
    "#### Use `msno.matrix()` to visualize our Missing Data"
   ]
  },
  {
   "cell_type": "code",
   "execution_count": null,
   "metadata": {},
   "outputs": [],
   "source": []
  },
  {
   "cell_type": "markdown",
   "metadata": {},
   "source": [
    "# End Lesson 04"
   ]
  }
 ],
 "metadata": {
  "kernelspec": {
   "display_name": "Python 3",
   "language": "python",
   "name": "python3"
  },
  "language_info": {
   "codemirror_mode": {
    "name": "ipython",
    "version": 3
   },
   "file_extension": ".py",
   "mimetype": "text/x-python",
   "name": "python",
   "nbconvert_exporter": "python",
   "pygments_lexer": "ipython3",
   "version": "3.7.4"
  },
  "toc": {
   "base_numbering": 1,
   "nav_menu": {},
   "number_sections": false,
   "sideBar": true,
   "skip_h1_title": false,
   "title_cell": "Table of Contents",
   "title_sidebar": "Contents",
   "toc_cell": true,
   "toc_position": {},
   "toc_section_display": true,
   "toc_window_display": true
  }
 },
 "nbformat": 4,
 "nbformat_minor": 2
}
