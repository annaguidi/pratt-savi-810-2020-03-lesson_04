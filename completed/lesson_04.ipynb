{
 "cells": [
  {
   "cell_type": "markdown",
   "metadata": {},
   "source": [
    "# Lesson 04\n",
    "\n",
    "# Exploratory Data Analysis & Visualization \n",
    "\n",
    "\n",
    "![http://www.pratt.edu/tiny_mce/plugins/imagemanager/files/Light_brown_blue22.jpg](http://www.pratt.edu/tiny_mce/plugins/imagemanager/files/Light_brown_blue22.jpg)"
   ]
  },
  {
   "cell_type": "markdown",
   "metadata": {},
   "source": [
    "# Class Links\n",
    "\n",
    "* [Syllabus](https://docs.google.com/document/d/1KHxT-NkaoXXdSNkK8JlzL2FFgmNoxPQ25fwgtXPnbrY)\n",
    "\n",
    "* [Class Google Spreadsheet](https://docs.google.com/spreadsheets/d/1t481r7HjQBbjNtFOABSOlcckzQhdrh12TCzpSYKurI0/edit?usp=sharing)\n",
    "\n",
    "* [Google Meetup Video Hangout](https://meet.google.com/aym-kxae-bzr)\n",
    "\n",
    "  * For United States Dial +1 \n",
    "    * (669) 220-6376\n",
    "  * Enter this PIN when prompted: \n",
    "    * 891 126 706 #\n",
    "  \n",
    "* [GitHub Organization](https://github.com/pratt-savi-810)\n",
    "\n",
    "* [Slack Organization](https://app.slack.com/client/T01068MA75X/C010J3Q2QET)\n",
    "\n",
    "* [Resources](https://github.com/pratt-savi-810/resources)"
   ]
  },
  {
   "cell_type": "markdown",
   "metadata": {
    "toc": true
   },
   "source": [
    "<h1>Table of Contents<span class=\"tocSkip\"></span></h1>\n",
    "<div class=\"toc\"><ul class=\"toc-item\"><li><span><a href=\"#Lesson-04\" data-toc-modified-id=\"Lesson-04-1\">Lesson 04</a></span></li><li><span><a href=\"#Exploratory-Data-Analysis-&amp;-Visualization\" data-toc-modified-id=\"Exploratory-Data-Analysis-&amp;-Visualization-2\">Exploratory Data Analysis &amp; Visualization</a></span></li><li><span><a href=\"#Class-Links\" data-toc-modified-id=\"Class-Links-3\">Class Links</a></span></li><li><span><a href=\"#Learning-Objectives\" data-toc-modified-id=\"Learning-Objectives-4\">Learning Objectives</a></span><ul class=\"toc-item\"><li><ul class=\"toc-item\"><li><span><a href=\"#Fork-and-Clone-this-Lesson-Repo\" data-toc-modified-id=\"Fork-and-Clone-this-Lesson-Repo-4.0.1\">Fork and Clone this Lesson Repo</a></span></li></ul></li></ul></li><li><span><a href=\"#Install-Python-Packages\" data-toc-modified-id=\"Install-Python-Packages-5\">Install Python Packages</a></span></li><li><span><a href=\"#Import-Libraries\" data-toc-modified-id=\"Import-Libraries-6\">Import Libraries</a></span><ul class=\"toc-item\"><li><ul class=\"toc-item\"><li><span><a href=\"#Matplotlib\" data-toc-modified-id=\"Matplotlib-6.0.1\"><a href=\"https://matplotlib.org/\" target=\"_blank\">Matplotlib</a></a></span></li></ul></li><li><span><a href=\"#New-Libraries\" data-toc-modified-id=\"New-Libraries-6.1\">New Libraries</a></span><ul class=\"toc-item\"><li><span><a href=\"#NumPy\" data-toc-modified-id=\"NumPy-6.1.1\"><a href=\"https://numpy.org/\" target=\"_blank\">NumPy</a></a></span></li><li><span><a href=\"#Missingno\" data-toc-modified-id=\"Missingno-6.1.2\"><a href=\"https://github.com/ResidentMario/missingno\" target=\"_blank\">Missingno</a></a></span></li><li><span><a href=\"#Seaborn\" data-toc-modified-id=\"Seaborn-6.1.3\"><a href=\"https://seaborn.pydata.org/\" target=\"_blank\">Seaborn</a></a></span></li></ul></li><li><span><a href=\"#Import-the-New-Libraries\" data-toc-modified-id=\"Import-the-New-Libraries-6.2\">Import the New Libraries</a></span></li></ul></li><li><span><a href=\"#Load-our-Hospitals-Data\" data-toc-modified-id=\"Load-our-Hospitals-Data-7\">Load our Hospitals Data</a></span><ul class=\"toc-item\"><li><ul class=\"toc-item\"><li><ul class=\"toc-item\"><li><span><a href=\"#Read-our-hospitals-data-as-a-DataFrame\" data-toc-modified-id=\"Read-our-hospitals-data-as-a-DataFrame-7.0.0.1\">Read our hospitals data as a DataFrame</a></span></li><li><span><a href=\"#Show-the-first-3-rows-of-the-data\" data-toc-modified-id=\"Show-the-first-3-rows-of-the-data-7.0.0.2\">Show the first 3 rows of the data</a></span></li><li><span><a href=\"#Let's-see-the-DataFrame-.columns\" data-toc-modified-id=\"Let's-see-the-DataFrame-.columns-7.0.0.3\">Let's see the DataFrame <code>.columns</code></a></span></li><li><span><a href=\"#How-many-Rows-and-Columns-does-our-DataFrame-have?\" data-toc-modified-id=\"How-many-Rows-and-Columns-does-our-DataFrame-have?-7.0.0.4\">How many Rows and Columns does our DataFrame have?</a></span></li></ul></li></ul></li></ul></li><li><span><a href=\"#Plotting-Data-in-Python\" data-toc-modified-id=\"Plotting-Data-in-Python-8\">Plotting Data in Python</a></span><ul class=\"toc-item\"><li><ul class=\"toc-item\"><li><ul class=\"toc-item\"><li><span><a href=\"#Let's-take-a-deeper-dive-and-look-at-the-BEDS-data-column\" data-toc-modified-id=\"Let's-take-a-deeper-dive-and-look-at-the-BEDS-data-column-8.0.0.1\">Let's take a deeper dive and look at the BEDS data column</a></span></li><li><span><a href=\"#Let's-start-with-a-pandas-plot\" data-toc-modified-id=\"Let's-start-with-a-pandas-plot-8.0.0.2\">Let's start with a pandas plot</a></span></li><li><span><a href=\"#We-can-also-use-the-.hist()-function\" data-toc-modified-id=\"We-can-also-use-the-.hist()-function-8.0.0.3\">We can also use the <code>.hist()</code> function</a></span></li><li><span><a href=\"#Now-let's-say-I-want-to-remove-those-gridlines-to-make-it-exactly-the-same\" data-toc-modified-id=\"Now-let's-say-I-want-to-remove-those-gridlines-to-make-it-exactly-the-same-8.0.0.4\">Now let's say I want to remove those gridlines to make it exactly the same</a></span></li><li><span><a href=\"#I-can-hit-SHIFT-+-TAB-to-see-the-arguments-for-the-.hist(-)-function\" data-toc-modified-id=\"I-can-hit-SHIFT-+-TAB-to-see-the-arguments-for-the-.hist(-)-function-8.0.0.5\">I can hit SHIFT + TAB to see the arguments for the <code>.hist( )</code> function</a></span></li><li><span><a href=\"#Now-let's-try-to-change-the-color.\" data-toc-modified-id=\"Now-let's-try-to-change-the-color.-8.0.0.6\">Now let's try to change the color.</a></span></li></ul></li></ul></li></ul></li><li><span><a href=\"#Matplotlib-Colors\" data-toc-modified-id=\"Matplotlib-Colors-9\">Matplotlib Colors</a></span><ul class=\"toc-item\"><li><ul class=\"toc-item\"><li><ul class=\"toc-item\"><li><span><a href=\"#Try-with-a-different-color\" data-toc-modified-id=\"Try-with-a-different-color-9.0.0.1\">Try with a different color</a></span></li><li><span><a href=\"#We-can-also-set-the-column-after-rather-than-inferring-it-from-DataFrame-Series\" data-toc-modified-id=\"We-can-also-set-the-column-after-rather-than-inferring-it-from-DataFrame-Series-9.0.0.2\">We can also set the column after rather than inferring it from DataFrame Series</a></span></li><li><span><a href=\"#We-can-also-plot-two-Histograms\" data-toc-modified-id=\"We-can-also-plot-two-Histograms-9.0.0.3\">We can also plot two Histograms</a></span></li><li><span><a href=\"#We-can-plot-as-a-Scatterplot\" data-toc-modified-id=\"We-can-plot-as-a-Scatterplot-9.0.0.4\">We can plot as a Scatterplot</a></span></li><li><span><a href=\"#We-can-plot-a-Box-plot\" data-toc-modified-id=\"We-can-plot-a-Box-plot-9.0.0.5\">We can plot a Box plot</a></span></li><li><span><a href=\"#Let's-look-at-our-BEDS-column-again-as-.plot.box()\" data-toc-modified-id=\"Let's-look-at-our-BEDS-column-again-as-.plot.box()-9.0.0.6\">Let's look at our BEDS column again as <code>.plot.box()</code></a></span></li><li><span><a href=\"#The--999-values-should-be-re-classified-as-missing-or-null\" data-toc-modified-id=\"The--999-values-should-be-re-classified-as-missing-or-null-9.0.0.7\">The -999 values should be re-classified as missing or null</a></span></li><li><span><a href=\"#Creating-new-Columns-in-Pandas-DataFrame\" data-toc-modified-id=\"Creating-new-Columns-in-Pandas-DataFrame-9.0.0.8\">Creating new Columns in Pandas DataFrame</a></span></li><li><span><a href=\"#Set-everyone's-eye-color-to-Brown\" data-toc-modified-id=\"Set-everyone's-eye-color-to-Brown-9.0.0.9\">Set everyone's eye color to Brown</a></span></li><li><span><a href=\"#Set-Tom's-Eye-Color-to-Green\" data-toc-modified-id=\"Set-Tom's-Eye-Color-to-Green-9.0.0.10\">Set Tom's Eye Color to Green</a></span></li><li><span><a href=\"#Set-Nick's-Eye-Color-to-Blue\" data-toc-modified-id=\"Set-Nick's-Eye-Color-to-Blue-9.0.0.11\">Set Nick's Eye Color to Blue</a></span></li><li><span><a href=\"#We-can-access-our-items-perhaps-a-little-easier-if-we-set.index()-for-our-DataFrame\" data-toc-modified-id=\"We-can-access-our-items-perhaps-a-little-easier-if-we-set.index()-for-our-DataFrame-9.0.0.12\">We can access our items perhaps a little easier if we <code>set.index()</code> for our DataFrame</a></span></li><li><span><a href=\"#Now-let's-set-Tom's-Eye-Color-to-Hazel\" data-toc-modified-id=\"Now-let's-set-Tom's-Eye-Color-to-Hazel-9.0.0.13\">Now let's set Tom's Eye Color to Hazel</a></span></li><li><span><a href=\"#Now-Back-to-our-Hospitals-DataFrame\" data-toc-modified-id=\"Now-Back-to-our-Hospitals-DataFrame-9.0.0.14\">Now Back to our Hospitals DataFrame</a></span></li><li><span><a href=\"#Let's-see-for-which-rows-BEDS-are--999\" data-toc-modified-id=\"Let's-see-for-which-rows-BEDS-are--999-9.0.0.15\">Let's see for which rows BEDS are -999</a></span></li><li><span><a href=\"#We-can-now-see-the-rows-where-BEDS-==--999\" data-toc-modified-id=\"We-can-now-see-the-rows-where-BEDS-==--999-9.0.0.16\">We can now see the rows where BEDS == -999</a></span></li><li><span><a href=\"#Okay-now-let's-use-that-to-write-a-numpy.where()-conditional-Statement\" data-toc-modified-id=\"Okay-now-let's-use-that-to-write-a-numpy.where()-conditional-Statement-9.0.0.17\">Okay now let's use that to write a <code>numpy.where()</code> conditional Statement</a></span></li><li><span><a href=\"#We'll-replace--999-with-the-np.nan-missing-data-type.\" data-toc-modified-id=\"We'll-replace--999-with-the-np.nan-missing-data-type.-9.0.0.18\">We'll replace -999 with the <code>np.nan</code> missing data type.</a></span></li><li><span><a href=\"#Now-let's-look-at-a-.hist()-(histogram)-of-our-BEDS_newcol\" data-toc-modified-id=\"Now-let's-look-at-a-.hist()-(histogram)-of-our-BEDS_newcol-9.0.0.19\">Now let's look at a <code>.hist()</code> (histogram) of our BEDS_newcol</a></span></li></ul></li></ul></li></ul></li></ul></div>"
   ]
  },
  {
   "cell_type": "markdown",
   "metadata": {},
   "source": [
    "# Learning Objectives\n",
    "\n",
    "* Learn to plot data with the Pandas Plotting Methods\n",
    "* Plot data using Seaborn\n",
    "* Explore missing data with MissingNo\n",
    "* Learn a bunch of Pandas features along the way. \n",
    "\n",
    "\n",
    "### Fork and Clone this Lesson Repo\n",
    "\n",
    "https://github.com/pratt-savi-810/pratt-savi-810-2020-03-lesson_04\n"
   ]
  },
  {
   "cell_type": "markdown",
   "metadata": {},
   "source": [
    "# Install Python Packages"
   ]
  },
  {
   "cell_type": "code",
   "execution_count": 5,
   "metadata": {},
   "outputs": [],
   "source": [
    "!pip install seaborn"
   ]
  },
  {
   "cell_type": "code",
   "execution_count": 7,
   "metadata": {},
   "outputs": [],
   "source": [
    "!pip install missingno"
   ]
  },
  {
   "cell_type": "markdown",
   "metadata": {},
   "source": [
    "# Import Libraries\n",
    "\n",
    "Let's `import` some of the libraries we've already used. "
   ]
  },
  {
   "cell_type": "code",
   "execution_count": 10,
   "metadata": {},
   "outputs": [],
   "source": [
    "from IPython.display import IFrame\n",
    "import pandas as pd\n",
    "import matplotlib.pyplot as plt"
   ]
  },
  {
   "attachments": {},
   "cell_type": "markdown",
   "metadata": {},
   "source": [
    "### [Matplotlib](https://matplotlib.org/)\n",
    "\n",
    "> Matplotlib is a comprehensive library for creating static, animated, and interactive visualizations in Python. Source: https://matplotlib.org/\n",
    "\n",
    "![matplotlib](https://matplotlib.org/_images/sphx_glr_subplot_001.png)\n",
    "\n",
    "\n",
    "## New Libraries\n",
    "\n",
    "### [NumPy](https://numpy.org/)\n",
    "\n",
    "> NumPy is the fundamental package for scientific computing with Python. It contains among other things:\n",
    "* a powerful N-dimensional array object\n",
    "* sophisticated (broadcasting) functions\n",
    "* tools for integrating C/C++ and Fortran code\n",
    "* useful linear algebra, Fourier transform, and random number capabilities\n",
    "\n",
    "> Besides its obvious scientific uses, NumPy can also be used as an efficient multi-dimensional container of generic data. Arbitrary data-types can be defined. This allows NumPy to seamlessly and speedily integrate with a wide variety of databases. Source: https://numpy.org/\n",
    "\n",
    "### [Missingno](https://github.com/ResidentMario/missingno)\n",
    "\n",
    "> Messy datasets? Missing values? missingno provides a small toolset of flexible and easy-to-use missing data visualizations and utilities that allows you to get a quick visual summary of the completeness (or lack thereof) of your dataset. Just pip install missingno to get started. Source: https://github.com/ResidentMario/missingno\n",
    "\n",
    "![missingo](https://camo.githubusercontent.com/d59ba9e511fd42dd078b8c8829d3de3f6a7e1585/68747470733a2f2f692e696d6775722e636f6d2f675775584b45722e706e67)\n",
    "\n",
    "### [Seaborn](https://seaborn.pydata.org/)\n",
    "\n",
    "> Seaborn is a Python data visualization library based on matplotlib. It provides a high-level interface for drawing attractive and informative statistical graphics. Source: https://seaborn.pydata.org/\n",
    "\n",
    "![seaborn](https://seaborn.pydata.org/_static/errorband_lineplots_thumb.png)"
   ]
  },
  {
   "cell_type": "code",
   "execution_count": 83,
   "metadata": {},
   "outputs": [
    {
     "data": {
      "text/html": [
       "\n",
       "        <iframe\n",
       "            width=\"700\"\n",
       "            height=\"400\"\n",
       "            src=\"https://seaborn.pydata.org/examples/index.html\"\n",
       "            frameborder=\"0\"\n",
       "            allowfullscreen\n",
       "        ></iframe>\n",
       "        "
      ],
      "text/plain": [
       "<IPython.lib.display.IFrame at 0x7fccb927df90>"
      ]
     },
     "execution_count": 83,
     "metadata": {},
     "output_type": "execute_result"
    }
   ],
   "source": [
    "IFrame(src='https://seaborn.pydata.org/examples/index.html', width=700, height=400)"
   ]
  },
  {
   "cell_type": "markdown",
   "metadata": {},
   "source": [
    "## Import the New Libraries"
   ]
  },
  {
   "cell_type": "code",
   "execution_count": 114,
   "metadata": {},
   "outputs": [],
   "source": [
    "import numpy as np\n",
    "import missingno as msno\n",
    "import seaborn as sns"
   ]
  },
  {
   "cell_type": "markdown",
   "metadata": {},
   "source": [
    "# Load our Hospitals Data"
   ]
  },
  {
   "cell_type": "code",
   "execution_count": 27,
   "metadata": {},
   "outputs": [],
   "source": [
    "csv_url = 'https://opendata.arcgis.com/datasets/6ac5e325468c4cb9b905f1728d6fbf0f_0.csv?outSR=%7B%22latestWkid%22%3A3857%2C%22wkid%22%3A102100%7D'"
   ]
  },
  {
   "cell_type": "markdown",
   "metadata": {},
   "source": [
    "#### Read our hospitals data as a DataFrame\n",
    "Read our hospitals data as a DataFrame using Pandas (imported as `pd`)\n"
   ]
  },
  {
   "cell_type": "code",
   "execution_count": 28,
   "metadata": {},
   "outputs": [],
   "source": [
    "df = pd.read_csv(csv_url)"
   ]
  },
  {
   "cell_type": "markdown",
   "metadata": {},
   "source": [
    "#### Show the first 3 rows of the data\n",
    "Show the first 3 rows of the data using `.head()`"
   ]
  },
  {
   "cell_type": "code",
   "execution_count": 48,
   "metadata": {},
   "outputs": [
    {
     "data": {
      "text/html": [
       "<div>\n",
       "<style scoped>\n",
       "    .dataframe tbody tr th:only-of-type {\n",
       "        vertical-align: middle;\n",
       "    }\n",
       "\n",
       "    .dataframe tbody tr th {\n",
       "        vertical-align: top;\n",
       "    }\n",
       "\n",
       "    .dataframe thead th {\n",
       "        text-align: right;\n",
       "    }\n",
       "</style>\n",
       "<table border=\"1\" class=\"dataframe\">\n",
       "  <thead>\n",
       "    <tr style=\"text-align: right;\">\n",
       "      <th></th>\n",
       "      <th>X</th>\n",
       "      <th>Y</th>\n",
       "      <th>OBJECTID</th>\n",
       "      <th>ID</th>\n",
       "      <th>NAME</th>\n",
       "      <th>ADDRESS</th>\n",
       "      <th>CITY</th>\n",
       "      <th>STATE</th>\n",
       "      <th>ZIP</th>\n",
       "      <th>ZIP4</th>\n",
       "      <th>...</th>\n",
       "      <th>VAL_DATE</th>\n",
       "      <th>WEBSITE</th>\n",
       "      <th>STATE_ID</th>\n",
       "      <th>ALT_NAME</th>\n",
       "      <th>ST_FIPS</th>\n",
       "      <th>OWNER</th>\n",
       "      <th>TTL_STAFF</th>\n",
       "      <th>BEDS</th>\n",
       "      <th>TRAUMA</th>\n",
       "      <th>HELIPAD</th>\n",
       "    </tr>\n",
       "  </thead>\n",
       "  <tbody>\n",
       "    <tr>\n",
       "      <td>0</td>\n",
       "      <td>-117.695977</td>\n",
       "      <td>34.078758</td>\n",
       "      <td>2001</td>\n",
       "      <td>72091763</td>\n",
       "      <td>MONTCLAIR HOSPITAL MEDICAL CENTER</td>\n",
       "      <td>5000 SAN BERNARDINO STREET</td>\n",
       "      <td>MONTCLAIR</td>\n",
       "      <td>CA</td>\n",
       "      <td>91763</td>\n",
       "      <td>NOT AVAILABLE</td>\n",
       "      <td>...</td>\n",
       "      <td>2015-01-14T00:00:00.000Z</td>\n",
       "      <td>http://www.montclair-hospital.org/</td>\n",
       "      <td>NOT AVAILABLE</td>\n",
       "      <td>NOT AVAILABLE</td>\n",
       "      <td>6</td>\n",
       "      <td>NON-PROFIT</td>\n",
       "      <td>-999</td>\n",
       "      <td>102</td>\n",
       "      <td>NOT AVAILABLE</td>\n",
       "      <td>N</td>\n",
       "    </tr>\n",
       "    <tr>\n",
       "      <td>1</td>\n",
       "      <td>-118.215980</td>\n",
       "      <td>34.204889</td>\n",
       "      <td>2002</td>\n",
       "      <td>73491208</td>\n",
       "      <td>USC VERDUGO HILLS HOSPITAL</td>\n",
       "      <td>1812 VERDUGO BOULEVARD</td>\n",
       "      <td>GLENDALE</td>\n",
       "      <td>CA</td>\n",
       "      <td>91208</td>\n",
       "      <td>NOT AVAILABLE</td>\n",
       "      <td>...</td>\n",
       "      <td>2015-01-14T00:00:00.000Z</td>\n",
       "      <td>http://uscvhh.org/</td>\n",
       "      <td>NOT AVAILABLE</td>\n",
       "      <td>NOT AVAILABLE</td>\n",
       "      <td>6</td>\n",
       "      <td>NON-PROFIT</td>\n",
       "      <td>-999</td>\n",
       "      <td>158</td>\n",
       "      <td>NOT AVAILABLE</td>\n",
       "      <td>Y</td>\n",
       "    </tr>\n",
       "    <tr>\n",
       "      <td>2</td>\n",
       "      <td>-84.353952</td>\n",
       "      <td>33.906082</td>\n",
       "      <td>2003</td>\n",
       "      <td>82830342</td>\n",
       "      <td>CHILDRENS HEALTHCARE OF ATLANTA AT SCOTTISH RITE</td>\n",
       "      <td>1001 JOHNSON FERRY RD</td>\n",
       "      <td>ATLANTA</td>\n",
       "      <td>GA</td>\n",
       "      <td>30342</td>\n",
       "      <td>NOT AVAILABLE</td>\n",
       "      <td>...</td>\n",
       "      <td>2015-03-02T00:00:00.000Z</td>\n",
       "      <td>http://www.choa.org/</td>\n",
       "      <td>113</td>\n",
       "      <td>NOT AVAILABLE</td>\n",
       "      <td>13</td>\n",
       "      <td>NON-PROFIT</td>\n",
       "      <td>-999</td>\n",
       "      <td>250</td>\n",
       "      <td>LEVEL II PEDIATRIC</td>\n",
       "      <td>Y</td>\n",
       "    </tr>\n",
       "  </tbody>\n",
       "</table>\n",
       "<p>3 rows × 34 columns</p>\n",
       "</div>"
      ],
      "text/plain": [
       "            X          Y  OBJECTID        ID  \\\n",
       "0 -117.695977  34.078758      2001  72091763   \n",
       "1 -118.215980  34.204889      2002  73491208   \n",
       "2  -84.353952  33.906082      2003  82830342   \n",
       "\n",
       "                                               NAME  \\\n",
       "0                 MONTCLAIR HOSPITAL MEDICAL CENTER   \n",
       "1                        USC VERDUGO HILLS HOSPITAL   \n",
       "2  CHILDRENS HEALTHCARE OF ATLANTA AT SCOTTISH RITE   \n",
       "\n",
       "                      ADDRESS       CITY STATE    ZIP           ZIP4  ...  \\\n",
       "0  5000 SAN BERNARDINO STREET  MONTCLAIR    CA  91763  NOT AVAILABLE  ...   \n",
       "1      1812 VERDUGO BOULEVARD   GLENDALE    CA  91208  NOT AVAILABLE  ...   \n",
       "2       1001 JOHNSON FERRY RD    ATLANTA    GA  30342  NOT AVAILABLE  ...   \n",
       "\n",
       "                   VAL_DATE                             WEBSITE  \\\n",
       "0  2015-01-14T00:00:00.000Z  http://www.montclair-hospital.org/   \n",
       "1  2015-01-14T00:00:00.000Z                  http://uscvhh.org/   \n",
       "2  2015-03-02T00:00:00.000Z                http://www.choa.org/   \n",
       "\n",
       "        STATE_ID       ALT_NAME ST_FIPS       OWNER TTL_STAFF  BEDS  \\\n",
       "0  NOT AVAILABLE  NOT AVAILABLE       6  NON-PROFIT      -999   102   \n",
       "1  NOT AVAILABLE  NOT AVAILABLE       6  NON-PROFIT      -999   158   \n",
       "2            113  NOT AVAILABLE      13  NON-PROFIT      -999   250   \n",
       "\n",
       "               TRAUMA  HELIPAD  \n",
       "0       NOT AVAILABLE        N  \n",
       "1       NOT AVAILABLE        Y  \n",
       "2  LEVEL II PEDIATRIC        Y  \n",
       "\n",
       "[3 rows x 34 columns]"
      ]
     },
     "execution_count": 48,
     "metadata": {},
     "output_type": "execute_result"
    }
   ],
   "source": [
    "df.head(3)"
   ]
  },
  {
   "cell_type": "markdown",
   "metadata": {},
   "source": [
    "#### Let's see the DataFrame `.columns`"
   ]
  },
  {
   "cell_type": "code",
   "execution_count": 49,
   "metadata": {},
   "outputs": [
    {
     "data": {
      "text/plain": [
       "Index(['X', 'Y', 'OBJECTID', 'ID', 'NAME', 'ADDRESS', 'CITY', 'STATE', 'ZIP',\n",
       "       'ZIP4', 'TELEPHONE', 'TYPE', 'STATUS', 'POPULATION', 'COUNTY',\n",
       "       'COUNTYFIPS', 'COUNTRY', 'LATITUDE', 'LONGITUDE', 'NAICS_CODE',\n",
       "       'NAICS_DESC', 'SOURCE', 'SOURCEDATE', 'VAL_METHOD', 'VAL_DATE',\n",
       "       'WEBSITE', 'STATE_ID', 'ALT_NAME', 'ST_FIPS', 'OWNER', 'TTL_STAFF',\n",
       "       'BEDS', 'TRAUMA', 'HELIPAD'],\n",
       "      dtype='object')"
      ]
     },
     "execution_count": 49,
     "metadata": {},
     "output_type": "execute_result"
    }
   ],
   "source": [
    "df.columns"
   ]
  },
  {
   "cell_type": "markdown",
   "metadata": {},
   "source": [
    "#### How many Rows and Columns does our DataFrame have? \n",
    "What is the shape of the data (rows and colums)?\n",
    "\n",
    "Use `.shape`\n"
   ]
  },
  {
   "cell_type": "code",
   "execution_count": 20,
   "metadata": {},
   "outputs": [
    {
     "data": {
      "text/plain": [
       "(7581, 34)"
      ]
     },
     "execution_count": 20,
     "metadata": {},
     "output_type": "execute_result"
    }
   ],
   "source": [
    "df.shape"
   ]
  },
  {
   "cell_type": "markdown",
   "metadata": {},
   "source": [
    "\n",
    "\n",
    "# Plotting Data in Python\n",
    "\n",
    "* [**Matplotlib**](https://matplotlib.org/) is our Python plotting workhorse. Many of the other plotting libraries are built around or extended versions of Matplotlib. \n",
    "\n",
    "* [**Pandas**](https://pandas.pydata.org/pandas-docs/stable/user_guide/visualization.html) has it's own [plotting methods](https://pandas.pydata.org/pandas-docs/stable/user_guide/visualization.html) that are quick and easy implementations of `matplotlib`-like functions. \n",
    "\n",
    "* [**Seaborn**](https://seaborn.pydata.org/index.html) is based on Matplotlib and makes it easier to generate more detailed and involved plots that may have nicer styling than Matplotlib out-of-the-box. Sometimes its more complex to change and update the details of these plotting functions however. \n",
    "\n",
    "#### Let's take a deeper dive and look at the BEDS data column\n",
    "\n",
    "First, let's generate a [Histogram](https://en.wikipedia.org/wiki/Histogram) to see the distribution of our Beds data. \n",
    "\n",
    "#### Let's start with a pandas plot"
   ]
  },
  {
   "cell_type": "code",
   "execution_count": 33,
   "metadata": {},
   "outputs": [
    {
     "data": {
      "image/png": "[encoded data removed]",
      "text/plain": [
       "<Figure size 432x288 with 1 Axes>"
      ]
     },
     "metadata": {
      "needs_background": "light"
     },
     "output_type": "display_data"
    }
   ],
   "source": [
    "df['BEDS'].plot(kind='hist');\n",
    "\n",
    "# the semicolon (;) removes the printout to the cell of the in-memory python object"
   ]
  },
  {
   "cell_type": "markdown",
   "metadata": {},
   "source": [
    "#### We can also use the `.hist()` function\n",
    "\n",
    "Which is basically the same as the `.plot(kind='hist)"
   ]
  },
  {
   "cell_type": "code",
   "execution_count": 35,
   "metadata": {},
   "outputs": [
    {
     "data": {
      "text/plain": [
       "<matplotlib.axes._subplots.AxesSubplot at 0x7fccc0c86ad0>"
      ]
     },
     "execution_count": 35,
     "metadata": {},
     "output_type": "execute_result"
    },
    {
     "data": {
      "image/png": "[encoded data removed]",
      "text/plain": [
       "<Figure size 432x288 with 1 Axes>"
      ]
     },
     "metadata": {
      "needs_background": "light"
     },
     "output_type": "display_data"
    }
   ],
   "source": [
    "df['BEDS'].hist();"
   ]
  },
  {
   "cell_type": "markdown",
   "metadata": {},
   "source": [
    "#### Now let's say I want to remove those gridlines to make it exactly the same"
   ]
  },
  {
   "cell_type": "code",
   "execution_count": 39,
   "metadata": {},
   "outputs": [
    {
     "data": {
      "image/png": "[encoded data removed]",
      "text/plain": [
       "<Figure size 432x288 with 1 Axes>"
      ]
     },
     "metadata": {
      "needs_background": "light"
     },
     "output_type": "display_data"
    }
   ],
   "source": [
    "df['BEDS'].hist();"
   ]
  },
  {
   "cell_type": "markdown",
   "metadata": {},
   "source": [
    "#### I can hit SHIFT + TAB to see the arguments for the `.hist( )` function\n",
    "\n",
    "![pandas hist plot](https://raw.githubusercontent.com/pratt-savi-810/images/master/pandas_plot_hist_parameters.png)"
   ]
  },
  {
   "cell_type": "code",
   "execution_count": 38,
   "metadata": {},
   "outputs": [
    {
     "data": {
      "image/png": "[encoded data removed]",
      "text/plain": [
       "<Figure size 432x288 with 1 Axes>"
      ]
     },
     "metadata": {
      "needs_background": "light"
     },
     "output_type": "display_data"
    }
   ],
   "source": [
    "df['BEDS'].hist(grid=False);"
   ]
  },
  {
   "cell_type": "markdown",
   "metadata": {},
   "source": [
    "#### Now let's try to change the color. "
   ]
  },
  {
   "cell_type": "code",
   "execution_count": 44,
   "metadata": {},
   "outputs": [
    {
     "data": {
      "image/png": "[encoded data removed]",
      "text/plain": [
       "<Figure size 432x288 with 1 Axes>"
      ]
     },
     "metadata": {
      "needs_background": "light"
     },
     "output_type": "display_data"
    }
   ],
   "source": [
    "df['BEDS'].hist(color='red');"
   ]
  },
  {
   "cell_type": "markdown",
   "metadata": {},
   "source": [
    "# Matplotlib Colors \n",
    "\n",
    "![base colors](https://matplotlib.org/3.1.0/_images/sphx_glr_named_colors_001.png)\n",
    "\n",
    "![tableau palette](https://matplotlib.org/3.1.0/_images/sphx_glr_named_colors_002.png)\n",
    "\n",
    "![css colors](https://matplotlib.org/3.1.0/_images/sphx_glr_named_colors_003.png)\n",
    "\n",
    "\n",
    "#### Try with a different color"
   ]
  },
  {
   "cell_type": "code",
   "execution_count": 53,
   "metadata": {},
   "outputs": [
    {
     "data": {
      "image/png": "[encoded data removed]",
      "text/plain": [
       "<Figure size 432x288 with 1 Axes>"
      ]
     },
     "metadata": {
      "needs_background": "light"
     },
     "output_type": "display_data"
    }
   ],
   "source": [
    "df['BEDS'].hist(color='lightgreen');"
   ]
  },
  {
   "cell_type": "markdown",
   "metadata": {},
   "source": [
    "#### We can also set the column after rather than inferring it from DataFrame Series"
   ]
  },
  {
   "cell_type": "code",
   "execution_count": 55,
   "metadata": {},
   "outputs": [
    {
     "data": {
      "image/png": "[encoded data removed]",
      "text/plain": [
       "<Figure size 432x288 with 1 Axes>"
      ]
     },
     "metadata": {
      "needs_background": "light"
     },
     "output_type": "display_data"
    }
   ],
   "source": [
    "df.hist(column=['BEDS']);  #   "
   ]
  },
  {
   "cell_type": "markdown",
   "metadata": {},
   "source": [
    "#### We can also plot two Histograms"
   ]
  },
  {
   "cell_type": "code",
   "execution_count": 60,
   "metadata": {},
   "outputs": [
    {
     "data": {
      "image/png": "[encoded data removed]",
      "text/plain": [
       "<Figure size 432x288 with 2 Axes>"
      ]
     },
     "metadata": {
      "needs_background": "light"
     },
     "output_type": "display_data"
    }
   ],
   "source": [
    "df.hist(column=['BEDS', 'LATITUDE']); "
   ]
  },
  {
   "cell_type": "markdown",
   "metadata": {},
   "source": [
    "#### We can plot as a Scatterplot"
   ]
  },
  {
   "cell_type": "code",
   "execution_count": 134,
   "metadata": {},
   "outputs": [
    {
     "data": {
      "image/png": "[encoded data removed]",
      "text/plain": [
       "<Figure size 432x288 with 1 Axes>"
      ]
     },
     "metadata": {
      "needs_background": "light"
     },
     "output_type": "display_data"
    }
   ],
   "source": [
    "df.plot.scatter(x='LONGITUDE', y='LATITUDE');"
   ]
  },
  {
   "cell_type": "markdown",
   "metadata": {},
   "source": [
    "#### We can plot a Box plot \n",
    "\n",
    "> Visualize the distribution of values within each column. Source: https://pandas.pydata.org/pandas-docs/stable/user_guide/visualization.html#box-plots\n",
    "\n",
    "![boxplot example](https://pandas.pydata.org/pandas-docs/stable/_images/box_plot_new.png)"
   ]
  },
  {
   "cell_type": "code",
   "execution_count": 79,
   "metadata": {},
   "outputs": [
    {
     "data": {
      "image/png": "[encoded data removed]",
      "text/plain": [
       "<Figure size 432x288 with 1 Axes>"
      ]
     },
     "metadata": {
      "needs_background": "light"
     },
     "output_type": "display_data"
    }
   ],
   "source": [
    "df[['LONGITUDE', 'LATITUDE']].plot.box();"
   ]
  },
  {
   "cell_type": "markdown",
   "metadata": {},
   "source": [
    "#### Let's look at our BEDS column again as `.plot.box()`"
   ]
  },
  {
   "cell_type": "code",
   "execution_count": 81,
   "metadata": {},
   "outputs": [
    {
     "data": {
      "image/png": "[encoded data removed]",
      "text/plain": [
       "<Figure size 432x288 with 1 Axes>"
      ]
     },
     "metadata": {
      "needs_background": "light"
     },
     "output_type": "display_data"
    }
   ],
   "source": [
    "df['BEDS'].plot.box();"
   ]
  },
  {
   "cell_type": "markdown",
   "metadata": {},
   "source": [
    "#### The -999 values should be re-classified as missing or null\n",
    "\n",
    "But first let's look at **creating new columns** in a Pandas DataFrame\n",
    "\n",
    "#### Creating new Columns in Pandas DataFrame"
   ]
  },
  {
   "cell_type": "code",
   "execution_count": 94,
   "metadata": {},
   "outputs": [
    {
     "data": {
      "text/html": [
       "<div>\n",
       "<style scoped>\n",
       "    .dataframe tbody tr th:only-of-type {\n",
       "        vertical-align: middle;\n",
       "    }\n",
       "\n",
       "    .dataframe tbody tr th {\n",
       "        vertical-align: top;\n",
       "    }\n",
       "\n",
       "    .dataframe thead th {\n",
       "        text-align: right;\n",
       "    }\n",
       "</style>\n",
       "<table border=\"1\" class=\"dataframe\">\n",
       "  <thead>\n",
       "    <tr style=\"text-align: right;\">\n",
       "      <th></th>\n",
       "      <th>Name</th>\n",
       "      <th>Age</th>\n",
       "    </tr>\n",
       "  </thead>\n",
       "  <tbody>\n",
       "    <tr>\n",
       "      <td>0</td>\n",
       "      <td>Tom</td>\n",
       "      <td>20</td>\n",
       "    </tr>\n",
       "    <tr>\n",
       "      <td>1</td>\n",
       "      <td>nick</td>\n",
       "      <td>21</td>\n",
       "    </tr>\n",
       "    <tr>\n",
       "      <td>2</td>\n",
       "      <td>krish</td>\n",
       "      <td>19</td>\n",
       "    </tr>\n",
       "    <tr>\n",
       "      <td>3</td>\n",
       "      <td>jack</td>\n",
       "      <td>18</td>\n",
       "    </tr>\n",
       "  </tbody>\n",
       "</table>\n",
       "</div>"
      ],
      "text/plain": [
       "    Name  Age\n",
       "0    Tom   20\n",
       "1   nick   21\n",
       "2  krish   19\n",
       "3   jack   18"
      ]
     },
     "execution_count": 94,
     "metadata": {},
     "output_type": "execute_result"
    }
   ],
   "source": [
    "# Source: https://www.geeksforgeeks.org/different-ways-to-create-pandas-dataframe/\n",
    "data = {'Name':['Tom', 'nick', 'krish', 'jack'], 'Age':[20, 21, 19, 18]} \n",
    "  \n",
    "# Create DataFrame \n",
    "s = pd.DataFrame(data) \n",
    "  \n",
    "# Print the output. \n",
    "s"
   ]
  },
  {
   "cell_type": "markdown",
   "metadata": {},
   "source": [
    "#### Set everyone's eye color to Brown"
   ]
  },
  {
   "cell_type": "code",
   "execution_count": 95,
   "metadata": {},
   "outputs": [],
   "source": [
    "s['Eye Color'] = 'Brown'"
   ]
  },
  {
   "cell_type": "code",
   "execution_count": 96,
   "metadata": {},
   "outputs": [
    {
     "data": {
      "text/html": [
       "<div>\n",
       "<style scoped>\n",
       "    .dataframe tbody tr th:only-of-type {\n",
       "        vertical-align: middle;\n",
       "    }\n",
       "\n",
       "    .dataframe tbody tr th {\n",
       "        vertical-align: top;\n",
       "    }\n",
       "\n",
       "    .dataframe thead th {\n",
       "        text-align: right;\n",
       "    }\n",
       "</style>\n",
       "<table border=\"1\" class=\"dataframe\">\n",
       "  <thead>\n",
       "    <tr style=\"text-align: right;\">\n",
       "      <th></th>\n",
       "      <th>Name</th>\n",
       "      <th>Age</th>\n",
       "      <th>Eye Color</th>\n",
       "    </tr>\n",
       "  </thead>\n",
       "  <tbody>\n",
       "    <tr>\n",
       "      <td>0</td>\n",
       "      <td>Tom</td>\n",
       "      <td>20</td>\n",
       "      <td>Brown</td>\n",
       "    </tr>\n",
       "    <tr>\n",
       "      <td>1</td>\n",
       "      <td>nick</td>\n",
       "      <td>21</td>\n",
       "      <td>Brown</td>\n",
       "    </tr>\n",
       "    <tr>\n",
       "      <td>2</td>\n",
       "      <td>krish</td>\n",
       "      <td>19</td>\n",
       "      <td>Brown</td>\n",
       "    </tr>\n",
       "    <tr>\n",
       "      <td>3</td>\n",
       "      <td>jack</td>\n",
       "      <td>18</td>\n",
       "      <td>Brown</td>\n",
       "    </tr>\n",
       "  </tbody>\n",
       "</table>\n",
       "</div>"
      ],
      "text/plain": [
       "    Name  Age Eye Color\n",
       "0    Tom   20     Brown\n",
       "1   nick   21     Brown\n",
       "2  krish   19     Brown\n",
       "3   jack   18     Brown"
      ]
     },
     "execution_count": 96,
     "metadata": {},
     "output_type": "execute_result"
    }
   ],
   "source": [
    "s"
   ]
  },
  {
   "cell_type": "markdown",
   "metadata": {},
   "source": [
    "#### Set Tom's Eye Color to Green"
   ]
  },
  {
   "cell_type": "code",
   "execution_count": 97,
   "metadata": {},
   "outputs": [],
   "source": [
    "s.at[3, 'Eye Color'] = 'Green'"
   ]
  },
  {
   "cell_type": "code",
   "execution_count": 98,
   "metadata": {},
   "outputs": [
    {
     "data": {
      "text/html": [
       "<div>\n",
       "<style scoped>\n",
       "    .dataframe tbody tr th:only-of-type {\n",
       "        vertical-align: middle;\n",
       "    }\n",
       "\n",
       "    .dataframe tbody tr th {\n",
       "        vertical-align: top;\n",
       "    }\n",
       "\n",
       "    .dataframe thead th {\n",
       "        text-align: right;\n",
       "    }\n",
       "</style>\n",
       "<table border=\"1\" class=\"dataframe\">\n",
       "  <thead>\n",
       "    <tr style=\"text-align: right;\">\n",
       "      <th></th>\n",
       "      <th>Name</th>\n",
       "      <th>Age</th>\n",
       "      <th>Eye Color</th>\n",
       "    </tr>\n",
       "  </thead>\n",
       "  <tbody>\n",
       "    <tr>\n",
       "      <td>0</td>\n",
       "      <td>Tom</td>\n",
       "      <td>20</td>\n",
       "      <td>Brown</td>\n",
       "    </tr>\n",
       "    <tr>\n",
       "      <td>1</td>\n",
       "      <td>nick</td>\n",
       "      <td>21</td>\n",
       "      <td>Brown</td>\n",
       "    </tr>\n",
       "    <tr>\n",
       "      <td>2</td>\n",
       "      <td>krish</td>\n",
       "      <td>19</td>\n",
       "      <td>Brown</td>\n",
       "    </tr>\n",
       "    <tr>\n",
       "      <td>3</td>\n",
       "      <td>jack</td>\n",
       "      <td>18</td>\n",
       "      <td>Green</td>\n",
       "    </tr>\n",
       "  </tbody>\n",
       "</table>\n",
       "</div>"
      ],
      "text/plain": [
       "    Name  Age Eye Color\n",
       "0    Tom   20     Brown\n",
       "1   nick   21     Brown\n",
       "2  krish   19     Brown\n",
       "3   jack   18     Green"
      ]
     },
     "execution_count": 98,
     "metadata": {},
     "output_type": "execute_result"
    }
   ],
   "source": [
    "s"
   ]
  },
  {
   "cell_type": "markdown",
   "metadata": {},
   "source": [
    "#### Set Nick's Eye Color to Blue"
   ]
  },
  {
   "cell_type": "code",
   "execution_count": 99,
   "metadata": {},
   "outputs": [],
   "source": [
    "s.at[1, 'Eye Color'] = 'Blue'"
   ]
  },
  {
   "cell_type": "code",
   "execution_count": 100,
   "metadata": {},
   "outputs": [
    {
     "data": {
      "text/html": [
       "<div>\n",
       "<style scoped>\n",
       "    .dataframe tbody tr th:only-of-type {\n",
       "        vertical-align: middle;\n",
       "    }\n",
       "\n",
       "    .dataframe tbody tr th {\n",
       "        vertical-align: top;\n",
       "    }\n",
       "\n",
       "    .dataframe thead th {\n",
       "        text-align: right;\n",
       "    }\n",
       "</style>\n",
       "<table border=\"1\" class=\"dataframe\">\n",
       "  <thead>\n",
       "    <tr style=\"text-align: right;\">\n",
       "      <th></th>\n",
       "      <th>Name</th>\n",
       "      <th>Age</th>\n",
       "      <th>Eye Color</th>\n",
       "    </tr>\n",
       "  </thead>\n",
       "  <tbody>\n",
       "    <tr>\n",
       "      <td>0</td>\n",
       "      <td>Tom</td>\n",
       "      <td>20</td>\n",
       "      <td>Brown</td>\n",
       "    </tr>\n",
       "    <tr>\n",
       "      <td>1</td>\n",
       "      <td>nick</td>\n",
       "      <td>21</td>\n",
       "      <td>Blue</td>\n",
       "    </tr>\n",
       "    <tr>\n",
       "      <td>2</td>\n",
       "      <td>krish</td>\n",
       "      <td>19</td>\n",
       "      <td>Brown</td>\n",
       "    </tr>\n",
       "    <tr>\n",
       "      <td>3</td>\n",
       "      <td>jack</td>\n",
       "      <td>18</td>\n",
       "      <td>Green</td>\n",
       "    </tr>\n",
       "  </tbody>\n",
       "</table>\n",
       "</div>"
      ],
      "text/plain": [
       "    Name  Age Eye Color\n",
       "0    Tom   20     Brown\n",
       "1   nick   21      Blue\n",
       "2  krish   19     Brown\n",
       "3   jack   18     Green"
      ]
     },
     "execution_count": 100,
     "metadata": {},
     "output_type": "execute_result"
    }
   ],
   "source": [
    "s"
   ]
  },
  {
   "cell_type": "markdown",
   "metadata": {},
   "source": [
    "#### We can access our items perhaps a little easier if we `set.index()` for our DataFrame"
   ]
  },
  {
   "cell_type": "code",
   "execution_count": 104,
   "metadata": {},
   "outputs": [],
   "source": [
    "s.set_index('Name', inplace=True)"
   ]
  },
  {
   "cell_type": "markdown",
   "metadata": {},
   "source": [
    "#### Now let's set Tom's Eye Color to Hazel"
   ]
  },
  {
   "cell_type": "code",
   "execution_count": 106,
   "metadata": {},
   "outputs": [],
   "source": [
    "s.at['Tom', 'Eye Color'] = 'Hazel'"
   ]
  },
  {
   "cell_type": "code",
   "execution_count": 107,
   "metadata": {},
   "outputs": [
    {
     "data": {
      "text/html": [
       "<div>\n",
       "<style scoped>\n",
       "    .dataframe tbody tr th:only-of-type {\n",
       "        vertical-align: middle;\n",
       "    }\n",
       "\n",
       "    .dataframe tbody tr th {\n",
       "        vertical-align: top;\n",
       "    }\n",
       "\n",
       "    .dataframe thead th {\n",
       "        text-align: right;\n",
       "    }\n",
       "</style>\n",
       "<table border=\"1\" class=\"dataframe\">\n",
       "  <thead>\n",
       "    <tr style=\"text-align: right;\">\n",
       "      <th></th>\n",
       "      <th>Age</th>\n",
       "      <th>Eye Color</th>\n",
       "    </tr>\n",
       "    <tr>\n",
       "      <th>Name</th>\n",
       "      <th></th>\n",
       "      <th></th>\n",
       "    </tr>\n",
       "  </thead>\n",
       "  <tbody>\n",
       "    <tr>\n",
       "      <td>Tom</td>\n",
       "      <td>20</td>\n",
       "      <td>Hazel</td>\n",
       "    </tr>\n",
       "    <tr>\n",
       "      <td>nick</td>\n",
       "      <td>21</td>\n",
       "      <td>Blue</td>\n",
       "    </tr>\n",
       "    <tr>\n",
       "      <td>krish</td>\n",
       "      <td>19</td>\n",
       "      <td>Brown</td>\n",
       "    </tr>\n",
       "    <tr>\n",
       "      <td>jack</td>\n",
       "      <td>18</td>\n",
       "      <td>Green</td>\n",
       "    </tr>\n",
       "  </tbody>\n",
       "</table>\n",
       "</div>"
      ],
      "text/plain": [
       "       Age Eye Color\n",
       "Name                \n",
       "Tom     20     Hazel\n",
       "nick    21      Blue\n",
       "krish   19     Brown\n",
       "jack    18     Green"
      ]
     },
     "execution_count": 107,
     "metadata": {},
     "output_type": "execute_result"
    }
   ],
   "source": [
    "s"
   ]
  },
  {
   "cell_type": "markdown",
   "metadata": {},
   "source": [
    "#### Now Back to our Hospitals DataFrame\n",
    "\n",
    "We need to setup a condition where we want to reclassify the -999 values in BEDS column to missing so we can more accurately plot the data. \n",
    "\n",
    "#### Let's see for which rows BEDS are -999"
   ]
  },
  {
   "cell_type": "code",
   "execution_count": 110,
   "metadata": {},
   "outputs": [
    {
     "data": {
      "text/plain": [
       "0       False\n",
       "1       False\n",
       "2       False\n",
       "3       False\n",
       "4        True\n",
       "        ...  \n",
       "7576    False\n",
       "7577    False\n",
       "7578    False\n",
       "7579    False\n",
       "7580    False\n",
       "Name: BEDS, Length: 7581, dtype: bool"
      ]
     },
     "execution_count": 110,
     "metadata": {},
     "output_type": "execute_result"
    }
   ],
   "source": [
    "df['BEDS'] == -999  "
   ]
  },
  {
   "cell_type": "markdown",
   "metadata": {},
   "source": [
    "#### We can now see the rows where BEDS == -999"
   ]
  },
  {
   "cell_type": "code",
   "execution_count": 111,
   "metadata": {},
   "outputs": [
    {
     "data": {
      "text/html": [
       "<div>\n",
       "<style scoped>\n",
       "    .dataframe tbody tr th:only-of-type {\n",
       "        vertical-align: middle;\n",
       "    }\n",
       "\n",
       "    .dataframe tbody tr th {\n",
       "        vertical-align: top;\n",
       "    }\n",
       "\n",
       "    .dataframe thead th {\n",
       "        text-align: right;\n",
       "    }\n",
       "</style>\n",
       "<table border=\"1\" class=\"dataframe\">\n",
       "  <thead>\n",
       "    <tr style=\"text-align: right;\">\n",
       "      <th></th>\n",
       "      <th>X</th>\n",
       "      <th>Y</th>\n",
       "      <th>OBJECTID</th>\n",
       "      <th>ID</th>\n",
       "      <th>NAME</th>\n",
       "      <th>ADDRESS</th>\n",
       "      <th>CITY</th>\n",
       "      <th>STATE</th>\n",
       "      <th>ZIP</th>\n",
       "      <th>ZIP4</th>\n",
       "      <th>...</th>\n",
       "      <th>VAL_DATE</th>\n",
       "      <th>WEBSITE</th>\n",
       "      <th>STATE_ID</th>\n",
       "      <th>ALT_NAME</th>\n",
       "      <th>ST_FIPS</th>\n",
       "      <th>OWNER</th>\n",
       "      <th>TTL_STAFF</th>\n",
       "      <th>BEDS</th>\n",
       "      <th>TRAUMA</th>\n",
       "      <th>HELIPAD</th>\n",
       "    </tr>\n",
       "  </thead>\n",
       "  <tbody>\n",
       "    <tr>\n",
       "      <td>4</td>\n",
       "      <td>-91.038050</td>\n",
       "      <td>30.385655</td>\n",
       "      <td>2005</td>\n",
       "      <td>165270815</td>\n",
       "      <td>WOMAN'S HOSPITAL</td>\n",
       "      <td>100 WOMAN'S WAY</td>\n",
       "      <td>BATON ROUGE</td>\n",
       "      <td>LA</td>\n",
       "      <td>70815</td>\n",
       "      <td>NOT AVAILABLE</td>\n",
       "      <td>...</td>\n",
       "      <td>2015-06-01T00:00:00.000Z</td>\n",
       "      <td>http://www.womans.org</td>\n",
       "      <td>NOT AVAILABLE</td>\n",
       "      <td>NOT AVAILABLE</td>\n",
       "      <td>22</td>\n",
       "      <td>NON-PROFIT</td>\n",
       "      <td>-999</td>\n",
       "      <td>-999</td>\n",
       "      <td>NOT AVAILABLE</td>\n",
       "      <td>Y</td>\n",
       "    </tr>\n",
       "    <tr>\n",
       "      <td>13</td>\n",
       "      <td>-86.555233</td>\n",
       "      <td>30.460840</td>\n",
       "      <td>2014</td>\n",
       "      <td>44332542</td>\n",
       "      <td>96TH MEDICAL GROUP-EGLIN HOSPITAL</td>\n",
       "      <td>307 BOATNER RD</td>\n",
       "      <td>EGLIN AFB</td>\n",
       "      <td>FL</td>\n",
       "      <td>32542</td>\n",
       "      <td>NOT AVAILABLE</td>\n",
       "      <td>...</td>\n",
       "      <td>2014-02-10T00:00:00.000Z</td>\n",
       "      <td>http://www.eglin.af.mil/units/eglinhospital.asp</td>\n",
       "      <td>NOT AVAILABLE</td>\n",
       "      <td>NOT AVAILABLE</td>\n",
       "      <td>12</td>\n",
       "      <td>GOVERNMENT - FEDERAL</td>\n",
       "      <td>-999</td>\n",
       "      <td>-999</td>\n",
       "      <td>NOT AVAILABLE</td>\n",
       "      <td>Y</td>\n",
       "    </tr>\n",
       "    <tr>\n",
       "      <td>41</td>\n",
       "      <td>-84.886345</td>\n",
       "      <td>39.845242</td>\n",
       "      <td>2042</td>\n",
       "      <td>105</td>\n",
       "      <td>REID HOSPITAL-ER</td>\n",
       "      <td>CHESTER BLVD</td>\n",
       "      <td>RICHMOND</td>\n",
       "      <td>IN</td>\n",
       "      <td>47374</td>\n",
       "      <td>NOT AVAILABLE</td>\n",
       "      <td>...</td>\n",
       "      <td>2016-04-28T00:00:00.000Z</td>\n",
       "      <td>http://www.reidhospital.org/</td>\n",
       "      <td>NOT AVAILABLE</td>\n",
       "      <td>NOT AVAILABLE</td>\n",
       "      <td>18</td>\n",
       "      <td>NOT AVAILABLE</td>\n",
       "      <td>-999</td>\n",
       "      <td>-999</td>\n",
       "      <td>NOT AVAILABLE</td>\n",
       "      <td>N</td>\n",
       "    </tr>\n",
       "    <tr>\n",
       "      <td>67</td>\n",
       "      <td>-92.324335</td>\n",
       "      <td>34.750103</td>\n",
       "      <td>2068</td>\n",
       "      <td>60872205</td>\n",
       "      <td>ARKANSAS STATE HOSPITAL</td>\n",
       "      <td>305 SOUTH PALM STREET</td>\n",
       "      <td>LITTLE ROCK</td>\n",
       "      <td>AR</td>\n",
       "      <td>72205</td>\n",
       "      <td>NOT AVAILABLE</td>\n",
       "      <td>...</td>\n",
       "      <td>2014-11-18T00:00:00.000Z</td>\n",
       "      <td>NOT AVAILABLE</td>\n",
       "      <td>NOT AVAILABLE</td>\n",
       "      <td>NOT AVAILABLE</td>\n",
       "      <td>5</td>\n",
       "      <td>GOVERNMENT - STATE</td>\n",
       "      <td>-999</td>\n",
       "      <td>-999</td>\n",
       "      <td>NOT AVAILABLE</td>\n",
       "      <td>Y</td>\n",
       "    </tr>\n",
       "    <tr>\n",
       "      <td>68</td>\n",
       "      <td>-92.402744</td>\n",
       "      <td>34.657327</td>\n",
       "      <td>2069</td>\n",
       "      <td>60972209</td>\n",
       "      <td>BAPTIST HEALTH MEDICAL CENTER - LITTLE ROCK</td>\n",
       "      <td>11401 INTERSTATE 30</td>\n",
       "      <td>LITTLE ROCK</td>\n",
       "      <td>AR</td>\n",
       "      <td>72209</td>\n",
       "      <td>NOT AVAILABLE</td>\n",
       "      <td>...</td>\n",
       "      <td>2014-11-18T00:00:00.000Z</td>\n",
       "      <td>NOT AVAILABLE</td>\n",
       "      <td>NOT AVAILABLE</td>\n",
       "      <td>NOT AVAILABLE</td>\n",
       "      <td>5</td>\n",
       "      <td>NON-PROFIT</td>\n",
       "      <td>-999</td>\n",
       "      <td>-999</td>\n",
       "      <td>NOT AVAILABLE</td>\n",
       "      <td>Y</td>\n",
       "    </tr>\n",
       "    <tr>\n",
       "      <td>...</td>\n",
       "      <td>...</td>\n",
       "      <td>...</td>\n",
       "      <td>...</td>\n",
       "      <td>...</td>\n",
       "      <td>...</td>\n",
       "      <td>...</td>\n",
       "      <td>...</td>\n",
       "      <td>...</td>\n",
       "      <td>...</td>\n",
       "      <td>...</td>\n",
       "      <td>...</td>\n",
       "      <td>...</td>\n",
       "      <td>...</td>\n",
       "      <td>...</td>\n",
       "      <td>...</td>\n",
       "      <td>...</td>\n",
       "      <td>...</td>\n",
       "      <td>...</td>\n",
       "      <td>...</td>\n",
       "      <td>...</td>\n",
       "      <td>...</td>\n",
       "    </tr>\n",
       "    <tr>\n",
       "      <td>7483</td>\n",
       "      <td>-119.893134</td>\n",
       "      <td>36.264206</td>\n",
       "      <td>1903</td>\n",
       "      <td>33</td>\n",
       "      <td>NAVAL HOSPITAL LEMOORE</td>\n",
       "      <td>937 FRANKLIN AVE</td>\n",
       "      <td>LEMOORE</td>\n",
       "      <td>CA</td>\n",
       "      <td>93246</td>\n",
       "      <td>NOT AVAILABLE</td>\n",
       "      <td>...</td>\n",
       "      <td>2015-07-24T00:00:00.000Z</td>\n",
       "      <td>http://www.med.navy.mil/sites/nhlem/Pages/inde...</td>\n",
       "      <td>NOT AVAILABLE</td>\n",
       "      <td>NOT AVAILABLE</td>\n",
       "      <td>6</td>\n",
       "      <td>GOVERNMENT - FEDERAL</td>\n",
       "      <td>-999</td>\n",
       "      <td>-999</td>\n",
       "      <td>NOT AVAILABLE</td>\n",
       "      <td>N</td>\n",
       "    </tr>\n",
       "    <tr>\n",
       "      <td>7484</td>\n",
       "      <td>-116.688330</td>\n",
       "      <td>35.265440</td>\n",
       "      <td>1904</td>\n",
       "      <td>36</td>\n",
       "      <td>WEED ARMY COMMUNITY HOSPITAL</td>\n",
       "      <td>166 4TH ST</td>\n",
       "      <td>FORT IRWIN</td>\n",
       "      <td>CA</td>\n",
       "      <td>92310</td>\n",
       "      <td>NOT AVAILABLE</td>\n",
       "      <td>...</td>\n",
       "      <td>2015-07-24T00:00:00.000Z</td>\n",
       "      <td>http://www.irwin.amedd.army.mil/</td>\n",
       "      <td>NOT AVAILABLE</td>\n",
       "      <td>NOT AVAILABLE</td>\n",
       "      <td>6</td>\n",
       "      <td>GOVERNMENT - FEDERAL</td>\n",
       "      <td>-999</td>\n",
       "      <td>-999</td>\n",
       "      <td>NOT AVAILABLE</td>\n",
       "      <td>Y</td>\n",
       "    </tr>\n",
       "    <tr>\n",
       "      <td>7485</td>\n",
       "      <td>-122.161005</td>\n",
       "      <td>37.465292</td>\n",
       "      <td>1905</td>\n",
       "      <td>594025</td>\n",
       "      <td>VA MEDICAL CENTER - MENLO PARK DIVISION</td>\n",
       "      <td>795 WILLOW RD</td>\n",
       "      <td>MENLO PARK</td>\n",
       "      <td>CA</td>\n",
       "      <td>94025</td>\n",
       "      <td>NOT AVAILABLE</td>\n",
       "      <td>...</td>\n",
       "      <td>2015-05-13T00:00:00.000Z</td>\n",
       "      <td>http://www.paloalto.va.gov/</td>\n",
       "      <td>NOT AVAILABLE</td>\n",
       "      <td>NOT AVAILABLE</td>\n",
       "      <td>6</td>\n",
       "      <td>GOVERNMENT - FEDERAL</td>\n",
       "      <td>-999</td>\n",
       "      <td>-999</td>\n",
       "      <td>NOT AVAILABLE</td>\n",
       "      <td>N</td>\n",
       "    </tr>\n",
       "    <tr>\n",
       "      <td>7486</td>\n",
       "      <td>-118.238420</td>\n",
       "      <td>34.052015</td>\n",
       "      <td>1906</td>\n",
       "      <td>690012</td>\n",
       "      <td>LOS ANGELES AMBULATORY CARE CENTER</td>\n",
       "      <td>351 E TEMPLE ST</td>\n",
       "      <td>LOS ANGELES</td>\n",
       "      <td>CA</td>\n",
       "      <td>90012</td>\n",
       "      <td>NOT AVAILABLE</td>\n",
       "      <td>...</td>\n",
       "      <td>2015-05-13T00:00:00.000Z</td>\n",
       "      <td>http://www.losangeles.va.gov/</td>\n",
       "      <td>NOT AVAILABLE</td>\n",
       "      <td>NOT AVAILABLE</td>\n",
       "      <td>6</td>\n",
       "      <td>GOVERNMENT - FEDERAL</td>\n",
       "      <td>-999</td>\n",
       "      <td>-999</td>\n",
       "      <td>NOT AVAILABLE</td>\n",
       "      <td>N</td>\n",
       "    </tr>\n",
       "    <tr>\n",
       "      <td>7487</td>\n",
       "      <td>-122.139785</td>\n",
       "      <td>37.405353</td>\n",
       "      <td>1907</td>\n",
       "      <td>2894304</td>\n",
       "      <td>VA MEDICAL CENTER - PALO ALTO DIVISION</td>\n",
       "      <td>3801 MIRANDA AVE</td>\n",
       "      <td>PALO ALTO</td>\n",
       "      <td>CA</td>\n",
       "      <td>94304</td>\n",
       "      <td>NOT AVAILABLE</td>\n",
       "      <td>...</td>\n",
       "      <td>2015-05-21T00:00:00.000Z</td>\n",
       "      <td>http://www.paloalto.va.gov/</td>\n",
       "      <td>NOT AVAILABLE</td>\n",
       "      <td>NOT AVAILABLE</td>\n",
       "      <td>6</td>\n",
       "      <td>GOVERNMENT - FEDERAL</td>\n",
       "      <td>-999</td>\n",
       "      <td>-999</td>\n",
       "      <td>NOT AVAILABLE</td>\n",
       "      <td>N</td>\n",
       "    </tr>\n",
       "  </tbody>\n",
       "</table>\n",
       "<p>662 rows × 34 columns</p>\n",
       "</div>"
      ],
      "text/plain": [
       "               X          Y  OBJECTID         ID  \\\n",
       "4     -91.038050  30.385655      2005  165270815   \n",
       "13    -86.555233  30.460840      2014   44332542   \n",
       "41    -84.886345  39.845242      2042        105   \n",
       "67    -92.324335  34.750103      2068   60872205   \n",
       "68    -92.402744  34.657327      2069   60972209   \n",
       "...          ...        ...       ...        ...   \n",
       "7483 -119.893134  36.264206      1903         33   \n",
       "7484 -116.688330  35.265440      1904         36   \n",
       "7485 -122.161005  37.465292      1905     594025   \n",
       "7486 -118.238420  34.052015      1906     690012   \n",
       "7487 -122.139785  37.405353      1907    2894304   \n",
       "\n",
       "                                             NAME                ADDRESS  \\\n",
       "4                                WOMAN'S HOSPITAL        100 WOMAN'S WAY   \n",
       "13              96TH MEDICAL GROUP-EGLIN HOSPITAL         307 BOATNER RD   \n",
       "41                               REID HOSPITAL-ER           CHESTER BLVD   \n",
       "67                        ARKANSAS STATE HOSPITAL  305 SOUTH PALM STREET   \n",
       "68    BAPTIST HEALTH MEDICAL CENTER - LITTLE ROCK    11401 INTERSTATE 30   \n",
       "...                                           ...                    ...   \n",
       "7483                       NAVAL HOSPITAL LEMOORE       937 FRANKLIN AVE   \n",
       "7484                 WEED ARMY COMMUNITY HOSPITAL             166 4TH ST   \n",
       "7485      VA MEDICAL CENTER - MENLO PARK DIVISION          795 WILLOW RD   \n",
       "7486           LOS ANGELES AMBULATORY CARE CENTER        351 E TEMPLE ST   \n",
       "7487       VA MEDICAL CENTER - PALO ALTO DIVISION       3801 MIRANDA AVE   \n",
       "\n",
       "             CITY STATE    ZIP           ZIP4  ...                  VAL_DATE  \\\n",
       "4     BATON ROUGE    LA  70815  NOT AVAILABLE  ...  2015-06-01T00:00:00.000Z   \n",
       "13      EGLIN AFB    FL  32542  NOT AVAILABLE  ...  2014-02-10T00:00:00.000Z   \n",
       "41       RICHMOND    IN  47374  NOT AVAILABLE  ...  2016-04-28T00:00:00.000Z   \n",
       "67    LITTLE ROCK    AR  72205  NOT AVAILABLE  ...  2014-11-18T00:00:00.000Z   \n",
       "68    LITTLE ROCK    AR  72209  NOT AVAILABLE  ...  2014-11-18T00:00:00.000Z   \n",
       "...           ...   ...    ...            ...  ...                       ...   \n",
       "7483      LEMOORE    CA  93246  NOT AVAILABLE  ...  2015-07-24T00:00:00.000Z   \n",
       "7484   FORT IRWIN    CA  92310  NOT AVAILABLE  ...  2015-07-24T00:00:00.000Z   \n",
       "7485   MENLO PARK    CA  94025  NOT AVAILABLE  ...  2015-05-13T00:00:00.000Z   \n",
       "7486  LOS ANGELES    CA  90012  NOT AVAILABLE  ...  2015-05-13T00:00:00.000Z   \n",
       "7487    PALO ALTO    CA  94304  NOT AVAILABLE  ...  2015-05-21T00:00:00.000Z   \n",
       "\n",
       "                                                WEBSITE       STATE_ID  \\\n",
       "4                                 http://www.womans.org  NOT AVAILABLE   \n",
       "13      http://www.eglin.af.mil/units/eglinhospital.asp  NOT AVAILABLE   \n",
       "41                         http://www.reidhospital.org/  NOT AVAILABLE   \n",
       "67                                        NOT AVAILABLE  NOT AVAILABLE   \n",
       "68                                        NOT AVAILABLE  NOT AVAILABLE   \n",
       "...                                                 ...            ...   \n",
       "7483  http://www.med.navy.mil/sites/nhlem/Pages/inde...  NOT AVAILABLE   \n",
       "7484                   http://www.irwin.amedd.army.mil/  NOT AVAILABLE   \n",
       "7485                        http://www.paloalto.va.gov/  NOT AVAILABLE   \n",
       "7486                      http://www.losangeles.va.gov/  NOT AVAILABLE   \n",
       "7487                        http://www.paloalto.va.gov/  NOT AVAILABLE   \n",
       "\n",
       "           ALT_NAME ST_FIPS                 OWNER TTL_STAFF  BEDS  \\\n",
       "4     NOT AVAILABLE      22            NON-PROFIT      -999  -999   \n",
       "13    NOT AVAILABLE      12  GOVERNMENT - FEDERAL      -999  -999   \n",
       "41    NOT AVAILABLE      18         NOT AVAILABLE      -999  -999   \n",
       "67    NOT AVAILABLE       5    GOVERNMENT - STATE      -999  -999   \n",
       "68    NOT AVAILABLE       5            NON-PROFIT      -999  -999   \n",
       "...             ...     ...                   ...       ...   ...   \n",
       "7483  NOT AVAILABLE       6  GOVERNMENT - FEDERAL      -999  -999   \n",
       "7484  NOT AVAILABLE       6  GOVERNMENT - FEDERAL      -999  -999   \n",
       "7485  NOT AVAILABLE       6  GOVERNMENT - FEDERAL      -999  -999   \n",
       "7486  NOT AVAILABLE       6  GOVERNMENT - FEDERAL      -999  -999   \n",
       "7487  NOT AVAILABLE       6  GOVERNMENT - FEDERAL      -999  -999   \n",
       "\n",
       "             TRAUMA  HELIPAD  \n",
       "4     NOT AVAILABLE        Y  \n",
       "13    NOT AVAILABLE        Y  \n",
       "41    NOT AVAILABLE        N  \n",
       "67    NOT AVAILABLE        Y  \n",
       "68    NOT AVAILABLE        Y  \n",
       "...             ...      ...  \n",
       "7483  NOT AVAILABLE        N  \n",
       "7484  NOT AVAILABLE        Y  \n",
       "7485  NOT AVAILABLE        N  \n",
       "7486  NOT AVAILABLE        N  \n",
       "7487  NOT AVAILABLE        N  \n",
       "\n",
       "[662 rows x 34 columns]"
      ]
     },
     "execution_count": 111,
     "metadata": {},
     "output_type": "execute_result"
    }
   ],
   "source": [
    "df[df['BEDS'] == -999]"
   ]
  },
  {
   "cell_type": "markdown",
   "metadata": {},
   "source": [
    "#### Okay now let's use that to write a `numpy.where()` conditional Statement\n",
    "\n",
    "`numpy.where(condition[, x, y])`\n",
    "\n",
    ">  `Where True, yield x, otherwise yield y.` Source: https://docs.scipy.org/doc/numpy/reference/generated/numpy.where.html\n",
    "\n",
    "#### We'll replace -999 with the `np.nan` missing data type. "
   ]
  },
  {
   "cell_type": "code",
   "execution_count": 124,
   "metadata": {},
   "outputs": [],
   "source": [
    "df['BEDS_newcol'] = np.where(\n",
    "    df['BEDS'] == -999,\n",
    "    np.nan,  \n",
    "    df['BEDS']\n",
    ")"
   ]
  },
  {
   "cell_type": "code",
   "execution_count": 132,
   "metadata": {},
   "outputs": [
    {
     "data": {
      "text/plain": [
       "0     102.0\n",
       "1     158.0\n",
       "2     250.0\n",
       "3     451.0\n",
       "4       NaN\n",
       "5      56.0\n",
       "6      99.0\n",
       "7      16.0\n",
       "8     926.0\n",
       "9     339.0\n",
       "10     75.0\n",
       "11    401.0\n",
       "12    120.0\n",
       "13      NaN\n",
       "14    247.0\n",
       "Name: BEDS_newcol, dtype: float64"
      ]
     },
     "execution_count": 132,
     "metadata": {},
     "output_type": "execute_result"
    }
   ],
   "source": [
    "df['BEDS_newcol'].head(15)"
   ]
  },
  {
   "cell_type": "markdown",
   "metadata": {},
   "source": [
    "#### Now let's look at a `.hist()` (histogram) of our BEDS_newcol\n"
   ]
  },
  {
   "cell_type": "code",
   "execution_count": 148,
   "metadata": {},
   "outputs": [
    {
     "data": {
      "image/png": "[encoded data removed]",
      "text/plain": [
       "<Figure size 432x288 with 1 Axes>"
      ]
     },
     "metadata": {
      "needs_background": "light"
     },
     "output_type": "display_data"
    }
   ],
   "source": [
    "df['BEDS_newcol'].hist(bins=10);"
   ]
  },
  {
   "cell_type": "code",
   "execution_count": 152,
   "metadata": {},
   "outputs": [
    {
     "data": {
      "image/png": "[encoded data removed]",
      "text/plain": [
       "<Figure size 1800x720 with 2 Axes>"
      ]
     },
     "metadata": {
      "needs_background": "light"
     },
     "output_type": "display_data"
    }
   ],
   "source": [
    "msno.matrix(df[['BEDS_newcol']]);"
   ]
  },
  {
   "cell_type": "code",
   "execution_count": null,
   "metadata": {},
   "outputs": [],
   "source": []
  }
 ],
 "metadata": {
  "kernelspec": {
   "display_name": "Python 3",
   "language": "python",
   "name": "python3"
  },
  "language_info": {
   "codemirror_mode": {
    "name": "ipython",
    "version": 3
   },
   "file_extension": ".py",
   "mimetype": "text/x-python",
   "name": "python",
   "nbconvert_exporter": "python",
   "pygments_lexer": "ipython3",
   "version": "3.7.4"
  },
  "toc": {
   "base_numbering": 1,
   "nav_menu": {},
   "number_sections": false,
   "sideBar": true,
   "skip_h1_title": false,
   "title_cell": "Table of Contents",
   "title_sidebar": "Contents",
   "toc_cell": true,
   "toc_position": {},
   "toc_section_display": true,
   "toc_window_display": true
  }
 },
 "nbformat": 4,
 "nbformat_minor": 2
}
